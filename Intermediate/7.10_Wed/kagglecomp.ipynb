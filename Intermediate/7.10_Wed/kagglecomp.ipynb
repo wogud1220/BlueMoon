{
 "cells": [
  {
   "cell_type": "code",
   "execution_count": 3,
   "metadata": {},
   "outputs": [
    {
     "data": {
      "text/plain": [
       "Index(['id', 'Marital status', 'Application mode', 'Application order',\n",
       "       'Course', 'Daytime/evening attendance', 'Previous qualification',\n",
       "       'Previous qualification (grade)', 'Nacionality',\n",
       "       'Mother's qualification', 'Father's qualification',\n",
       "       'Mother's occupation', 'Father's occupation', 'Admission grade',\n",
       "       'Displaced', 'Educational special needs', 'Debtor',\n",
       "       'Tuition fees up to date', 'Gender', 'Scholarship holder',\n",
       "       'Age at enrollment', 'International',\n",
       "       'Curricular units 1st sem (credited)',\n",
       "       'Curricular units 1st sem (enrolled)',\n",
       "       'Curricular units 1st sem (evaluations)',\n",
       "       'Curricular units 1st sem (approved)',\n",
       "       'Curricular units 1st sem (grade)',\n",
       "       'Curricular units 1st sem (without evaluations)',\n",
       "       'Curricular units 2nd sem (credited)',\n",
       "       'Curricular units 2nd sem (enrolled)',\n",
       "       'Curricular units 2nd sem (evaluations)',\n",
       "       'Curricular units 2nd sem (approved)',\n",
       "       'Curricular units 2nd sem (grade)',\n",
       "       'Curricular units 2nd sem (without evaluations)', 'Unemployment rate',\n",
       "       'Inflation rate', 'GDP', 'Target'],\n",
       "      dtype='object')"
      ]
     },
     "execution_count": 3,
     "metadata": {},
     "output_type": "execute_result"
    }
   ],
   "source": [
    "import pandas as pd\n",
    "train = pd.read_csv('./train.csv')\n",
    "train.columns"
   ]
  },
  {
   "cell_type": "code",
   "execution_count": 6,
   "metadata": {},
   "outputs": [
    {
     "data": {
      "text/plain": [
       "id                                                0\n",
       "Marital status                                    0\n",
       "Application mode                                  0\n",
       "Application order                                 0\n",
       "Course                                            0\n",
       "Daytime/evening attendance                        0\n",
       "Previous qualification                            0\n",
       "Previous qualification (grade)                    0\n",
       "Nacionality                                       0\n",
       "Mother's qualification                            0\n",
       "Father's qualification                            0\n",
       "Mother's occupation                               0\n",
       "Father's occupation                               0\n",
       "Admission grade                                   0\n",
       "Displaced                                         0\n",
       "Educational special needs                         0\n",
       "Debtor                                            0\n",
       "Tuition fees up to date                           0\n",
       "Gender                                            0\n",
       "Scholarship holder                                0\n",
       "Age at enrollment                                 0\n",
       "International                                     0\n",
       "Curricular units 1st sem (credited)               0\n",
       "Curricular units 1st sem (enrolled)               0\n",
       "Curricular units 1st sem (evaluations)            0\n",
       "Curricular units 1st sem (approved)               0\n",
       "Curricular units 1st sem (grade)                  0\n",
       "Curricular units 1st sem (without evaluations)    0\n",
       "Curricular units 2nd sem (credited)               0\n",
       "Curricular units 2nd sem (enrolled)               0\n",
       "Curricular units 2nd sem (evaluations)            0\n",
       "Curricular units 2nd sem (approved)               0\n",
       "Curricular units 2nd sem (grade)                  0\n",
       "Curricular units 2nd sem (without evaluations)    0\n",
       "Unemployment rate                                 0\n",
       "Inflation rate                                    0\n",
       "GDP                                               0\n",
       "Target                                            0\n",
       "dtype: int64"
      ]
     },
     "execution_count": 6,
     "metadata": {},
     "output_type": "execute_result"
    }
   ],
   "source": [
    "train.isnull().sum()"
   ]
  },
  {
   "cell_type": "code",
   "execution_count": 4,
   "metadata": {},
   "outputs": [
    {
     "data": {
      "text/plain": [
       "Index(['id', 'Marital status', 'Application mode', 'Application order',\n",
       "       'Course', 'Daytime/evening attendance', 'Previous qualification',\n",
       "       'Previous qualification (grade)', 'Nacionality',\n",
       "       'Mother's qualification', 'Father's qualification',\n",
       "       'Mother's occupation', 'Father's occupation', 'Admission grade',\n",
       "       'Displaced', 'Educational special needs', 'Debtor',\n",
       "       'Tuition fees up to date', 'Gender', 'Scholarship holder',\n",
       "       'Age at enrollment', 'International',\n",
       "       'Curricular units 1st sem (credited)',\n",
       "       'Curricular units 1st sem (enrolled)',\n",
       "       'Curricular units 1st sem (evaluations)',\n",
       "       'Curricular units 1st sem (approved)',\n",
       "       'Curricular units 1st sem (grade)',\n",
       "       'Curricular units 1st sem (without evaluations)',\n",
       "       'Curricular units 2nd sem (credited)',\n",
       "       'Curricular units 2nd sem (enrolled)',\n",
       "       'Curricular units 2nd sem (evaluations)',\n",
       "       'Curricular units 2nd sem (approved)',\n",
       "       'Curricular units 2nd sem (grade)',\n",
       "       'Curricular units 2nd sem (without evaluations)', 'Unemployment rate',\n",
       "       'Inflation rate', 'GDP'],\n",
       "      dtype='object')"
      ]
     },
     "execution_count": 4,
     "metadata": {},
     "output_type": "execute_result"
    }
   ],
   "source": [
    "test = pd.read_csv('./test.csv')\n",
    "test.columns"
   ]
  },
  {
   "cell_type": "code",
   "execution_count": 7,
   "metadata": {},
   "outputs": [
    {
     "data": {
      "text/plain": [
       "id                                                0\n",
       "Marital status                                    0\n",
       "Application mode                                  0\n",
       "Application order                                 0\n",
       "Course                                            0\n",
       "Daytime/evening attendance                        0\n",
       "Previous qualification                            0\n",
       "Previous qualification (grade)                    0\n",
       "Nacionality                                       0\n",
       "Mother's qualification                            0\n",
       "Father's qualification                            0\n",
       "Mother's occupation                               0\n",
       "Father's occupation                               0\n",
       "Admission grade                                   0\n",
       "Displaced                                         0\n",
       "Educational special needs                         0\n",
       "Debtor                                            0\n",
       "Tuition fees up to date                           0\n",
       "Gender                                            0\n",
       "Scholarship holder                                0\n",
       "Age at enrollment                                 0\n",
       "International                                     0\n",
       "Curricular units 1st sem (credited)               0\n",
       "Curricular units 1st sem (enrolled)               0\n",
       "Curricular units 1st sem (evaluations)            0\n",
       "Curricular units 1st sem (approved)               0\n",
       "Curricular units 1st sem (grade)                  0\n",
       "Curricular units 1st sem (without evaluations)    0\n",
       "Curricular units 2nd sem (credited)               0\n",
       "Curricular units 2nd sem (enrolled)               0\n",
       "Curricular units 2nd sem (evaluations)            0\n",
       "Curricular units 2nd sem (approved)               0\n",
       "Curricular units 2nd sem (grade)                  0\n",
       "Curricular units 2nd sem (without evaluations)    0\n",
       "Unemployment rate                                 0\n",
       "Inflation rate                                    0\n",
       "GDP                                               0\n",
       "dtype: int64"
      ]
     },
     "execution_count": 7,
     "metadata": {},
     "output_type": "execute_result"
    }
   ],
   "source": [
    "test.isnull().sum()"
   ]
  },
  {
   "cell_type": "code",
   "execution_count": 14,
   "metadata": {},
   "outputs": [
    {
     "name": "stdout",
     "output_type": "stream",
     "text": [
      "0        Graduate\n",
      "1         Dropout\n",
      "2         Dropout\n",
      "3        Enrolled\n",
      "4        Graduate\n",
      "           ...   \n",
      "76513    Graduate\n",
      "76514    Graduate\n",
      "76515    Enrolled\n",
      "76516     Dropout\n",
      "76517    Graduate\n",
      "Name: Target, Length: 76518, dtype: object\n",
      "          id  Course  Daytime/evening attendance  Previous qualification  \\\n",
      "0          0    9238                           1                       1   \n",
      "1          1    9238                           1                       1   \n",
      "2          2    9254                           1                       1   \n",
      "3          3    9500                           1                       1   \n",
      "4          4    9500                           1                       1   \n",
      "...      ...     ...                         ...                     ...   \n",
      "76513  76513    9254                           1                       1   \n",
      "76514  76514    9254                           1                       1   \n",
      "76515  76515    9085                           1                       1   \n",
      "76516  76516    9070                           1                       1   \n",
      "76517  76517    9773                           1                       1   \n",
      "\n",
      "       Previous qualification (grade)  Nacionality  Mother's qualification  \\\n",
      "0                               126.0            1                       1   \n",
      "1                               125.0            1                      19   \n",
      "2                               137.0            1                       3   \n",
      "3                               131.0            1                      19   \n",
      "4                               132.0            1                      19   \n",
      "...                               ...          ...                     ...   \n",
      "76513                           121.0            1                      19   \n",
      "76514                           125.0            1                       1   \n",
      "76515                           138.0            1                      37   \n",
      "76516                           136.0            1                      38   \n",
      "76517                           133.1            1                      19   \n",
      "\n",
      "       Father's qualification  Mother's occupation  Father's occupation  ...  \\\n",
      "0                          19                    5                    5  ...   \n",
      "1                          19                    9                    9  ...   \n",
      "2                          19                    2                    3  ...   \n",
      "3                           3                    3                    2  ...   \n",
      "4                          37                    4                    9  ...   \n",
      "...                       ...                  ...                  ...  ...   \n",
      "76513                       1                    7                    5  ...   \n",
      "76514                      38                    4                    9  ...   \n",
      "76515                      37                    9                   10  ...   \n",
      "76516                      37                    5                    9  ...   \n",
      "76517                      19                    4                    9  ...   \n",
      "\n",
      "       Curricular units 1st sem (without evaluations)  \\\n",
      "0                                                   0   \n",
      "1                                                   0   \n",
      "2                                                   0   \n",
      "3                                                   0   \n",
      "4                                                   0   \n",
      "...                                               ...   \n",
      "76513                                               0   \n",
      "76514                                               0   \n",
      "76515                                               2   \n",
      "76516                                               0   \n",
      "76517                                               0   \n",
      "\n",
      "       Curricular units 2nd sem (credited)  \\\n",
      "0                                        0   \n",
      "1                                        0   \n",
      "2                                        0   \n",
      "3                                        0   \n",
      "4                                        0   \n",
      "...                                    ...   \n",
      "76513                                    0   \n",
      "76514                                    0   \n",
      "76515                                    0   \n",
      "76516                                    0   \n",
      "76517                                    0   \n",
      "\n",
      "       Curricular units 2nd sem (enrolled)  \\\n",
      "0                                        6   \n",
      "1                                        6   \n",
      "2                                        6   \n",
      "3                                        8   \n",
      "4                                        7   \n",
      "...                                    ...   \n",
      "76513                                    6   \n",
      "76514                                    6   \n",
      "76515                                    5   \n",
      "76516                                    6   \n",
      "76517                                    6   \n",
      "\n",
      "       Curricular units 2nd sem (evaluations)  \\\n",
      "0                                           7   \n",
      "1                                           9   \n",
      "2                                           0   \n",
      "3                                          11   \n",
      "4                                          12   \n",
      "...                                       ...   \n",
      "76513                                       8   \n",
      "76514                                       9   \n",
      "76515                                       8   \n",
      "76516                                       0   \n",
      "76517                                       6   \n",
      "\n",
      "       Curricular units 2nd sem (approved)  Curricular units 2nd sem (grade)  \\\n",
      "0                                        6                         12.428571   \n",
      "1                                        0                          0.000000   \n",
      "2                                        0                          0.000000   \n",
      "3                                        7                         12.820000   \n",
      "4                                        6                         12.933333   \n",
      "...                                    ...                               ...   \n",
      "76513                                    5                         10.600000   \n",
      "76514                                    6                         13.875000   \n",
      "76515                                    5                         11.400000   \n",
      "76516                                    0                          0.000000   \n",
      "76517                                    6                         13.666667   \n",
      "\n",
      "       Curricular units 2nd sem (without evaluations)  Unemployment rate  \\\n",
      "0                                                   0               11.1   \n",
      "1                                                   0               11.1   \n",
      "2                                                   0               16.2   \n",
      "3                                                   0               11.1   \n",
      "4                                                   0                7.6   \n",
      "...                                               ...                ...   \n",
      "76513                                               0               13.9   \n",
      "76514                                               0                9.4   \n",
      "76515                                               1                9.4   \n",
      "76516                                               0                7.6   \n",
      "76517                                               0               15.5   \n",
      "\n",
      "       Inflation rate   GDP  \n",
      "0                 0.6  2.02  \n",
      "1                 0.6  2.02  \n",
      "2                 0.3 -0.92  \n",
      "3                 0.6  2.02  \n",
      "4                 2.6  0.32  \n",
      "...               ...   ...  \n",
      "76513            -0.3  0.79  \n",
      "76514            -0.8 -3.12  \n",
      "76515            -0.8 -3.12  \n",
      "76516             2.6  0.32  \n",
      "76517             2.8 -4.06  \n",
      "\n",
      "[76518 rows x 34 columns]\n"
     ]
    }
   ],
   "source": [
    "train.Target.value_counts()\n",
    "X = train.drop(['Marital status', 'Application mode', 'Application order', 'Target'], axis=1)\n",
    "Y = train.Target"
   ]
  },
  {
   "cell_type": "code",
   "execution_count": 17,
   "metadata": {},
   "outputs": [
    {
     "ename": "AttributeError",
     "evalue": "'Series' object has no attribute 'Target'",
     "output_type": "error",
     "traceback": [
      "\u001b[0;31m---------------------------------------------------------------------------\u001b[0m",
      "\u001b[0;31mAttributeError\u001b[0m                            Traceback (most recent call last)",
      "\u001b[0;32m/var/folders/1b/bsw8d2sn1v76jr_rtvxbmtfm0000gn/T/ipykernel_50288/563754318.py\u001b[0m in \u001b[0;36m?\u001b[0;34m()\u001b[0m\n\u001b[1;32m      3\u001b[0m \u001b[0mtrain_undersampled\u001b[0m \u001b[0;34m=\u001b[0m \u001b[0mtrain\u001b[0m\u001b[0;34m.\u001b[0m\u001b[0mgroupby\u001b[0m\u001b[0;34m(\u001b[0m\u001b[0;34m'Target'\u001b[0m\u001b[0;34m)\u001b[0m\u001b[0;34m.\u001b[0m\u001b[0msample\u001b[0m\u001b[0;34m(\u001b[0m\u001b[0mn\u001b[0m\u001b[0;34m=\u001b[0m\u001b[0mmin_class_count\u001b[0m\u001b[0;34m,\u001b[0m \u001b[0mrandom_state\u001b[0m\u001b[0;34m=\u001b[0m\u001b[0;36m1\u001b[0m\u001b[0;34m)\u001b[0m\u001b[0;34m\u001b[0m\u001b[0;34m\u001b[0m\u001b[0m\n\u001b[1;32m      4\u001b[0m \u001b[0;34m\u001b[0m\u001b[0m\n\u001b[1;32m      5\u001b[0m \u001b[0mX_undersampled\u001b[0m \u001b[0;34m=\u001b[0m \u001b[0mtrain_undersampled\u001b[0m\u001b[0;34m.\u001b[0m\u001b[0mdrop\u001b[0m\u001b[0;34m(\u001b[0m\u001b[0;34m'Target'\u001b[0m\u001b[0;34m,\u001b[0m \u001b[0maxis\u001b[0m\u001b[0;34m=\u001b[0m\u001b[0;36m1\u001b[0m\u001b[0;34m)\u001b[0m\u001b[0;34m\u001b[0m\u001b[0;34m\u001b[0m\u001b[0m\n\u001b[1;32m      6\u001b[0m \u001b[0my_undersampled\u001b[0m \u001b[0;34m=\u001b[0m \u001b[0mtrain_undersampled\u001b[0m\u001b[0;34m[\u001b[0m\u001b[0;34m'Target'\u001b[0m\u001b[0;34m]\u001b[0m\u001b[0;34m\u001b[0m\u001b[0;34m\u001b[0m\u001b[0m\n\u001b[0;32m----> 7\u001b[0;31m \u001b[0my_undersampled\u001b[0m\u001b[0;34m.\u001b[0m\u001b[0mTarget\u001b[0m\u001b[0;34m.\u001b[0m\u001b[0mvalue_counts\u001b[0m\u001b[0;34m(\u001b[0m\u001b[0;34m)\u001b[0m\u001b[0;34m\u001b[0m\u001b[0;34m\u001b[0m\u001b[0m\n\u001b[0m",
      "\u001b[0;32m~/Desktop/Git/BlueMoon/BlueMoonEnv/lib/python3.12/site-packages/pandas/core/generic.py\u001b[0m in \u001b[0;36m?\u001b[0;34m(self, name)\u001b[0m\n\u001b[1;32m   6295\u001b[0m             \u001b[0;32mand\u001b[0m \u001b[0mname\u001b[0m \u001b[0;32mnot\u001b[0m \u001b[0;32min\u001b[0m \u001b[0mself\u001b[0m\u001b[0;34m.\u001b[0m\u001b[0m_accessors\u001b[0m\u001b[0;34m\u001b[0m\u001b[0;34m\u001b[0m\u001b[0m\n\u001b[1;32m   6296\u001b[0m             \u001b[0;32mand\u001b[0m \u001b[0mself\u001b[0m\u001b[0;34m.\u001b[0m\u001b[0m_info_axis\u001b[0m\u001b[0;34m.\u001b[0m\u001b[0m_can_hold_identifiers_and_holds_name\u001b[0m\u001b[0;34m(\u001b[0m\u001b[0mname\u001b[0m\u001b[0;34m)\u001b[0m\u001b[0;34m\u001b[0m\u001b[0;34m\u001b[0m\u001b[0m\n\u001b[1;32m   6297\u001b[0m         \u001b[0;34m)\u001b[0m\u001b[0;34m:\u001b[0m\u001b[0;34m\u001b[0m\u001b[0;34m\u001b[0m\u001b[0m\n\u001b[1;32m   6298\u001b[0m             \u001b[0;32mreturn\u001b[0m \u001b[0mself\u001b[0m\u001b[0;34m[\u001b[0m\u001b[0mname\u001b[0m\u001b[0;34m]\u001b[0m\u001b[0;34m\u001b[0m\u001b[0;34m\u001b[0m\u001b[0m\n\u001b[0;32m-> 6299\u001b[0;31m         \u001b[0;32mreturn\u001b[0m \u001b[0mobject\u001b[0m\u001b[0;34m.\u001b[0m\u001b[0m__getattribute__\u001b[0m\u001b[0;34m(\u001b[0m\u001b[0mself\u001b[0m\u001b[0;34m,\u001b[0m \u001b[0mname\u001b[0m\u001b[0;34m)\u001b[0m\u001b[0;34m\u001b[0m\u001b[0;34m\u001b[0m\u001b[0m\n\u001b[0m",
      "\u001b[0;31mAttributeError\u001b[0m: 'Series' object has no attribute 'Target'"
     ]
    }
   ],
   "source": [
    "#undersampling\n",
    "min_class_count = Y.value_counts().min()\n",
    "train_undersampled = train.groupby('Target').sample(n=min_class_count, random_state=1)\n",
    "\n",
    "X_undersampled = train_undersampled.drop('Target', axis=1)\n",
    "y_undersampled = train_undersampled['Target']\n",
    "y_undersampled.Target.value_counts()"
   ]
  },
  {
   "cell_type": "code",
   "execution_count": null,
   "metadata": {},
   "outputs": [],
   "source": [
    "from sklearn.model_selection import train_test_split\n",
    "X_train, X_test, Y_train, Y_test = train_test_split(X, Y, test_size=0.2)\n"
   ]
  }
 ],
 "metadata": {
  "kernelspec": {
   "display_name": "BlueMoonEnv",
   "language": "python",
   "name": "python3"
  },
  "language_info": {
   "codemirror_mode": {
    "name": "ipython",
    "version": 3
   },
   "file_extension": ".py",
   "mimetype": "text/x-python",
   "name": "python",
   "nbconvert_exporter": "python",
   "pygments_lexer": "ipython3",
   "version": "3.12.2"
  }
 },
 "nbformat": 4,
 "nbformat_minor": 2
}
