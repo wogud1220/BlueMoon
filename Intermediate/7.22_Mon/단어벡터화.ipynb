{
 "cells": [
  {
   "cell_type": "code",
   "execution_count": 7,
   "metadata": {},
   "outputs": [],
   "source": [
    "# 불피요한 warnings 이 길게 출력되는 막기 위한 코드이다.\n",
    "import warnings\n",
    "warnings.filterwarnings(\"ignore\")\n",
    "# 데이터 분석을 위한 pandas, 수치계산을 위한 numpy, 시각화를 위한 seaborn, matplotlib 을 불러온다.\n",
    "import pandas as pd\n",
    "import numpy as np\n",
    "import seaborn as sns\n",
    "import matplotlib.pyplot as plt"
   ]
  },
  {
   "cell_type": "code",
   "execution_count": 9,
   "metadata": {},
   "outputs": [
    {
     "data": {
      "text/plain": [
       "<Axes: title={'center': '한글'}>"
      ]
     },
     "execution_count": 9,
     "metadata": {},
     "output_type": "execute_result"
    },
    {
     "data": {
      "image/png": "[encoded data removed]",
      "text/plain": [
       "<Figure size 600x100 with 1 Axes>"
      ]
     },
     "metadata": {
      "image/png": {
       "height": 142,
       "width": 515
      }
     },
     "output_type": "display_data"
    }
   ],
   "source": [
    "# 그래프에 retina display 적용\n",
    "%config InlineBackend.figure_format = 'retina'\n",
    "\n",
    "a = pd.Series([1, 3, 5, -7, 9]).plot(title=\"한글\", figsize=(6, 1))\n",
    "a"
   ]
  },
  {
   "cell_type": "code",
   "execution_count": 13,
   "metadata": {},
   "outputs": [],
   "source": [
    "corpus = [\"코로나 거리두기와 코로나 상생지원금 문의입니다.\",\n",
    "          \"지하철 운행시간과 지하철 요금 문의입니다.\",\n",
    "          \"지하철 승강장 문의입니다.\",\n",
    "          \"택시 승강장 문의입니다.\"]"
   ]
  },
  {
   "cell_type": "code",
   "execution_count": 22,
   "metadata": {},
   "outputs": [
    {
     "data": {
      "text/plain": [
       "<4x9 sparse matrix of type '<class 'numpy.int64'>'\n",
       "\twith 14 stored elements in Compressed Sparse Row format>"
      ]
     },
     "execution_count": 22,
     "metadata": {},
     "output_type": "execute_result"
    }
   ],
   "source": [
    "from sklearn.feature_extraction.text import CountVectorizer\n",
    "# fit, transform, fit_transfrom의 차이점\n",
    "'''\n",
    "* fit(): 원시 문서에 있는 모든 토큰의 어휘 사전을 배운다.\n",
    "* transform(): 문서를 문서 용어 매트릭스로 변환합니다. transform 이후엔 매트릭스로 변환되어 숫자형태로 변경된다.\n",
    "* fit_transform(): 어휘 사전을 배우고 문서 용어 매트릭스를 반환한다. fit 다음에 변환이 오는 것과 동일하지만 더 효율적으로 구현된다.'''\n",
    "cvect = CountVectorizer()\n",
    "cvect.fit(corpus)\n",
    "dtm = cvect.transform(corpus)\n",
    "dtm"
   ]
  },
  {
   "cell_type": "code",
   "execution_count": 23,
   "metadata": {},
   "outputs": [
    {
     "data": {
      "text/plain": [
       "<bound method _cs_matrix.toarray of <4x9 sparse matrix of type '<class 'numpy.int64'>'\n",
       "\twith 14 stored elements in Compressed Sparse Row format>>"
      ]
     },
     "execution_count": 23,
     "metadata": {},
     "output_type": "execute_result"
    }
   ],
   "source": [
    "dtm.toarray"
   ]
  },
  {
   "cell_type": "code",
   "execution_count": 28,
   "metadata": {},
   "outputs": [
    {
     "data": {
      "text/plain": [
       "{'코로나': 7,\n",
       " '거리두기와': 0,\n",
       " '상생지원금': 2,\n",
       " '문의입니다': 1,\n",
       " '지하철': 6,\n",
       " '운행시간과': 5,\n",
       " '요금': 4,\n",
       " '승강장': 3,\n",
       " '택시': 8}"
      ]
     },
     "execution_count": 28,
     "metadata": {},
     "output_type": "execute_result"
    }
   ],
   "source": [
    "cvect.vocabulary_\n"
   ]
  },
  {
   "cell_type": "code",
   "execution_count": null,
   "metadata": {},
   "outputs": [],
   "source": [
    "\n",
    "# * 토큰을 몇 개 사용할 것인지를 구분합니다. 지정한 n개의 숫자 만큼의 토큰을 묶어서 사용한다.\n",
    "# * 예를 들어 (1, 1) 이라면 1개의 토큰을 (2, 3)이라면 2~3개의 토큰을 사용한다.\n",
    "# * analyzer 설정에 따라 단어단위, 캐릭터 단위에 따라 사용할 수 있다.\n",
    "\n",
    "# * 기본값 = (1, 1)\n",
    "# * ngram_range(min_n, max_n)\n",
    "# * min_n <= n <= max_n\n",
    "# ```\n",
    "# (1, 1) 은 1 <= n <= 1\n",
    "# (1, 2) 은 1 <= n <= 2\n",
    "# (2, 2) 은 2 <= n <= 2"
   ]
  }
 ],
 "metadata": {
  "kernelspec": {
   "display_name": "BlueMoonEnv",
   "language": "python",
   "name": "python3"
  },
  "language_info": {
   "codemirror_mode": {
    "name": "ipython",
    "version": 3
   },
   "file_extension": ".py",
   "mimetype": "text/x-python",
   "name": "python",
   "nbconvert_exporter": "python",
   "pygments_lexer": "ipython3",
   "version": "3.9.6"
  }
 },
 "nbformat": 4,
 "nbformat_minor": 2
}
