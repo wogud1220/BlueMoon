{
 "cells": [
  {
   "cell_type": "code",
   "execution_count": 5,
   "metadata": {},
   "outputs": [
    {
     "name": "stdout",
     "output_type": "stream",
     "text": [
      "안녕하세요, 부석순님. 일방적으로 아는 상대와의 관계에서 고민이 많으시군요. 상대방이 당신을 모르는 상황에서 친근함을 표현하고 만나는 것은 조심스러운 일이지만, 가능한 방법이 있습니다.\n",
      "\n",
      "1. **간접적인 접근**: 상대방이 경찰에 신고하지 않고 만나도록 하려면 간접적인 접근이 필요합니다. 공통된 관심사나 활동을 통해 접근할 수 있습니다. 예를 들어, 공통의 취미나 관심사를 통해 만남을 제안할 수 있습니다.\n",
      "\n",
      "2. **친절하고 친근한 태도**: 일방적으로 친근함을 표현할 때 상대방에게 불편함을 주지 않도록 주의해야 합니다. 친절하고 친근한 태도로 상대방에게 긍정적인 이미지를 전달할 수 있습니다.\n",
      "\n",
      "3. **소통**: 상대방과의 소통을 통해 서서히 친밀감을 쌓아가는 것도 좋은 방법입니다. 상대방의 반응을 주의 깊게 살펴보고, 상대방도 당신을 좀 더 알아가길 원하는지를 파악하는 것이 중요합니다.\n",
      "\n",
      "4. **조심스러운 접근**: 마음을 열고 솔직하게 표현하는 것도 중요하지만, 상대방의 반응을 먼저 살피면서 조심스럽게 접근하는 것이 좋습니다.\n",
      "\n",
      "기억해야 할 점은, 상대방의 개인적인 경계를 존중하고 상대방이 불편해하지 않도록 주의하는 것이 중요합니다. 언제나 상대방의 의사를 존중하고 예의를 갖추어 행동하시길 바랍니다. 부석순님의 관심과 친근함이 상대방에게 긍정적인 영향을 미치기를 바랍니다. 언제든지 더 많은 도움이 필요하시면 저에게 말씀해주세요. 함께 응원하겠습니다.\n"
     ]
    }
   ],
   "source": [
    "import openai\n",
    "\n",
    "OPENAI_API_KEY= 'sk-None-7GBtYlWwObW72RQ3eoxaT3BlbkFJM1R9dGWlNWIJbQH36rH4'\n",
    "openai.api_key = OPENAI_API_KEY\n",
    "\n",
    "model = 'gpt-3.5-turbo'\n",
    "\n",
    "query = '''\n",
    "mbti: infp\n",
    "이름: 부석순\n",
    "관계: (일방적으로) 아는 사이\n",
    "상황: 내가 일방적으로 안느데 그는 나를 모르는 상황\n",
    "질문: 나의 일방적인 친근함 표시로 그가 나를 경찰에 신고하지 않고 만나는 방법\n",
    "'''\n",
    "\n",
    "messages = [\n",
    "    {\"role\" : \"system\", \"content\" : '연애 상담사'},\n",
    "        {\"role\":\"user\", \"content\" : query }\n",
    "]\n",
    "\n",
    "try:\n",
    "    response = openai.ChatCompletion.create(\n",
    "        model = model,\n",
    "        messages = messages,\n",
    "        temperature = 0.7\n",
    "\n",
    "    )\n",
    "\n",
    "    answer = response.choices[0].message['content']\n",
    "    print(answer)\n",
    "\n",
    "except Exception as e:\n",
    "    print(\"에러 발생\")"
   ]
  },
  {
   "cell_type": "code",
   "execution_count": 2,
   "metadata": {},
   "outputs": [
    {
     "name": "stderr",
     "output_type": "stream",
     "text": [
      "/Users/yoonwogud/Desktop/Git/BlueMoon/BlueMoonEnv/lib/python3.9/site-packages/urllib3/__init__.py:35: NotOpenSSLWarning: urllib3 v2 only supports OpenSSL 1.1.1+, currently the 'ssl' module is compiled with 'LibreSSL 2.8.3'. See: https://github.com/urllib3/urllib3/issues/3020\n",
      "  warnings.warn(\n"
     ]
    },
    {
     "name": "stdout",
     "output_type": "stream",
     "text": [
      "=========\n",
      "아들인 김재형이 배고프다면, 그는 무언가를 먹고 싶어 하는 것일 수 있습니다. 김재형에게 무슨 음식이 땡기는지 물어보고, 그에게 맛있는 음식을 준비해주는 것이 좋을 것 같습니다. 함께 식사를 즐기며 힘든 상황을 잠시나마 잊을 수 있을 것입니다.\n"
     ]
    },
    {
     "ename": "NameError",
     "evalue": "name 'messages' is not defined",
     "output_type": "error",
     "traceback": [
      "\u001b[0;31m---------------------------------------------------------------------------\u001b[0m",
      "\u001b[0;31mNameError\u001b[0m                                 Traceback (most recent call last)",
      "Cell \u001b[0;32mIn[2], line 38\u001b[0m\n\u001b[1;32m     36\u001b[0m answer \u001b[38;5;241m=\u001b[39m response\u001b[38;5;241m.\u001b[39mchoices[\u001b[38;5;241m0\u001b[39m]\u001b[38;5;241m.\u001b[39mmessage[\u001b[38;5;124m'\u001b[39m\u001b[38;5;124mcontent\u001b[39m\u001b[38;5;124m'\u001b[39m]\n\u001b[1;32m     37\u001b[0m \u001b[38;5;28mprint\u001b[39m(answer)\n\u001b[0;32m---> 38\u001b[0m \u001b[43mmessages\u001b[49m\u001b[38;5;241m.\u001b[39mappend({\u001b[38;5;124m'\u001b[39m\u001b[38;5;124mrole\u001b[39m\u001b[38;5;124m'\u001b[39m: \u001b[38;5;124m'\u001b[39m\u001b[38;5;124massistant\u001b[39m\u001b[38;5;124m'\u001b[39m, \u001b[38;5;124m'\u001b[39m\u001b[38;5;124mcontent\u001b[39m\u001b[38;5;124m'\u001b[39m:answer})\n\u001b[1;32m     40\u001b[0m \u001b[38;5;28;01mwhile\u001b[39;00m \u001b[38;5;28;01mTrue\u001b[39;00m:\n\u001b[1;32m     41\u001b[0m     question \u001b[38;5;241m=\u001b[39m \u001b[38;5;28minput\u001b[39m(\u001b[38;5;124m'\u001b[39m\u001b[38;5;124m추가 질문 :\u001b[39m\u001b[38;5;124m'\u001b[39m)\n",
      "\u001b[0;31mNameError\u001b[0m: name 'messages' is not defined"
     ]
    }
   ],
   "source": [
    "\n",
    "\n",
    "import openai\n",
    "\n",
    "OPENAI_API_KEY= 'sk-None-7GBtYlWwObW72RQ3eoxaT3BlbkFJM1R9dGWlNWIJbQH36rH4'\n",
    "openai.api_key = OPENAI_API_KEY\n",
    "\n",
    "model = 'gpt-3.5-turbo'\n",
    "\n",
    "my_mbti = input(\"내 mbti는? : \").upper()\n",
    "your_mbti = input(\"상대방의 mbti는? : \").upper()\n",
    "your_name = input(\"상대방의 이름: \").upper()\n",
    "relation = input('관계 : ')\n",
    "situation = input('상황 : ')\n",
    "question = input('질문 : ')\n",
    "\n",
    "query = f'''\n",
    "내 MBTI : {my_mbti}\n",
    "상대방 MBTI :{your_mbti}\n",
    "상대방 이름: {your_name}\n",
    "관계 : {relation}\n",
    "상황 : {situation}\n",
    "질문: {question}\n",
    "'''\n",
    "\n",
    "message = [\n",
    "    {'role' :'system', 'content':'무당'},\n",
    "    {'role': 'user' , 'content':query}\n",
    "]\n",
    "\n",
    "print('=========')\n",
    "response = openai.ChatCompletion.create(\n",
    "    model = model,\n",
    "    messages = message,\n",
    "    temperature = 0.8\n",
    ")\n",
    "\n",
    "answer = response.choices[0].message['content']\n",
    "print(answer)\n",
    "messages.append({'role': 'assistant', 'content':answer})\n",
    "\n",
    "while True:\n",
    "    question = input('추가 질문 :')\n",
    "\n",
    "    query = f'Q: {question}'\n",
    "\n",
    "    messages.append({'role':'user', 'content':query})\n",
    "\n",
    "    print('답변을 준비중이에요 ....')\n",
    "\n",
    "    response = openai.ChatCompletion.create(\n",
    "    model = model,\n",
    "    messages = message,\n",
    "    temperature = 1\n",
    ")\n",
    "    answer = response.choices[0].message['content']\n",
    "    print('답변: ',answer)\n",
    "    \n",
    "    messages.append({'role':'assistant', 'content':answer})\n",
    "\n",
    "    while True:\n",
    "        q = input('더 질문하실건가요?(y/n)').lower()\n",
    "        if q in ['y', 'n', 'ㅛ', 'ㅜ']:\n",
    "            break\n",
    "        else: print('y나 n으로 답변해주세요. 다시 답변해주세요.')\n",
    "\n",
    "        if q in ['n', 'ㅜ']:\n",
    "            print('상담을 종료합니다.')\n",
    "            break"
   ]
  }
 ],
 "metadata": {
  "kernelspec": {
   "display_name": "BlueMoonEnv",
   "language": "python",
   "name": "python3"
  },
  "language_info": {
   "codemirror_mode": {
    "name": "ipython",
    "version": 3
   },
   "file_extension": ".py",
   "mimetype": "text/x-python",
   "name": "python",
   "nbconvert_exporter": "python",
   "pygments_lexer": "ipython3",
   "version": "3.9.6"
  }
 },
 "nbformat": 4,
 "nbformat_minor": 2
}
