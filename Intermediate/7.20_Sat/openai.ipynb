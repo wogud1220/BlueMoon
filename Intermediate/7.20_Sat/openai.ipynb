{
 "cells": [
  {
   "cell_type": "code",
   "execution_count": 1,
   "metadata": {},
   "outputs": [
    {
     "name": "stderr",
     "output_type": "stream",
     "text": [
      "/Users/yoonwogud/Desktop/Git/BlueMoon/BlueMoonEnv/lib/python3.9/site-packages/urllib3/__init__.py:35: NotOpenSSLWarning: urllib3 v2 only supports OpenSSL 1.1.1+, currently the 'ssl' module is compiled with 'LibreSSL 2.8.3'. See: https://github.com/urllib3/urllib3/issues/3020\n",
      "  warnings.warn(\n"
     ]
    },
    {
     "ename": "ImportError",
     "evalue": "cannot import name 'OpenAI' from 'openai' (/Users/yoonwogud/Desktop/Git/BlueMoon/BlueMoonEnv/lib/python3.9/site-packages/openai/__init__.py)",
     "output_type": "error",
     "traceback": [
      "\u001b[0;31m---------------------------------------------------------------------------\u001b[0m",
      "\u001b[0;31mImportError\u001b[0m                               Traceback (most recent call last)",
      "Cell \u001b[0;32mIn[1], line 1\u001b[0m\n\u001b[0;32m----> 1\u001b[0m \u001b[38;5;28;01mfrom\u001b[39;00m \u001b[38;5;21;01mopenai\u001b[39;00m \u001b[38;5;28;01mimport\u001b[39;00m OpenAI\n\u001b[1;32m      3\u001b[0m \u001b[38;5;66;03m# 코드로 챗지피티 유료로 사용하기 위한 인증 코드 \u001b[39;00m\n\u001b[1;32m      4\u001b[0m client \u001b[38;5;241m=\u001b[39m OpenAI(api_key \u001b[38;5;241m=\u001b[39m \u001b[38;5;124m'\u001b[39m\u001b[38;5;124msk-proj-RvXtPRRA9TMaNlHv1piCT3BlbkFJOw2WHKeNLDz1oNPWmt79\u001b[39m\u001b[38;5;124m'\u001b[39m)\n",
      "\u001b[0;31mImportError\u001b[0m: cannot import name 'OpenAI' from 'openai' (/Users/yoonwogud/Desktop/Git/BlueMoon/BlueMoonEnv/lib/python3.9/site-packages/openai/__init__.py)"
     ]
    }
   ],
   "source": [
    "from openai import OpenAI\n",
    "\n",
    "# 코드로 챗지피티 유료로 사용하기 위한 인증 코드 \n",
    "client = OpenAI(api_key = 'sk-proj-RvXtPRRA9TMaNlHv1piCT3BlbkFJOw2WHKeNLDz1oNPWmt79')\n",
    "#sk-proj-RvXtPRRA9TMaNlHv1piCT3BlbkFJOw2WHKeNLDz1oNPWmt79\n",
    "\n",
    "\n",
    "from string import Template"
   ]
  },
  {
   "cell_type": "code",
   "execution_count": null,
   "metadata": {},
   "outputs": [],
   "source": [
    "system_prompt = \"\"\"\n",
    "당신은 면접 전문가입니다.\n",
    "채용 지원자가 원하는 직무에 적합한지 가장 확실하게 판단할 수 있는 질문을 작성해야합니다.\n",
    "\n",
    "\n",
    "다음은 \"Research Scientist/Engineer - LLM 기반 대화형 AI 기술 개발\"의 채용 공고입니다.\n",
    "\n",
    "\n",
    "--- 공고 내용 시작 ---\n",
    "팀 소개\n",
    "\n",
    "\n",
    "Language Lab은 자연어 처리 분야의 기술적 난제 해결을 위한 핵심 선행기술을 연구하며 Learning-by-Reading AI 확보를 통한 챗봇 등 Language 분야 서비스 혁신 이라는 비전을 가지고 있습니다.\n",
    "\n",
    "\n",
    "\n",
    "\n",
    "수행 업무\n",
    "\n",
    "\n",
    "LLM 기반 대화형 AI 기능별 모델 Instruction Tuning 수행 및 최적화\n",
    "LLM 기반 대화형 AI의 아키텍쳐 설계, Inference 최적화, Service Orchestration 개발\n",
    "RAG 기술 고도화 및 대화형 AI 적용\n",
    "\n",
    "\n",
    "지원자격\n",
    "\n",
    "\n",
    "LLM 기술 및 서비스 개발 경력 및 우수 역량 보유자\n",
    "Deep Learning, Machine Learning 알고리즘 연구/개발 경험\n",
    "대화형 챗봇, 대규모 검색 서비스 설계 및 개발 경력\n",
    "Tensorflow, PyTorch, JAX 등 Machine Learning Framework 활용 경험\n",
    "Python 등 프로그래밍 언어 경험\n",
    "\n",
    "\n",
    "전공\n",
    "\n",
    "\n",
    "석사 후 3년이상 경력자, 박사 졸업 예정자 및 기 졸업자\n",
    "\n",
    "\n",
    "전형절차\n",
    "\n",
    "\n",
    "서류심사 → 코딩테스트 → 1차 직무 인터뷰(온라인) → LG AI Fit Check (온라인) → 최종 인터뷰(온사이트)\n",
    "* 전형 절차는 변경될 수 있습니다. 서류 합격 시 전형 절차에 대해 별도로 안내 해 드립니다.\n",
    "\n",
    "\n",
    "현재 LG AI연구원은 병역지정업체가 아님으로, 전문연구요원 채용 및 전직이 불가함을 알려드립니다.\n",
    "--- 공고 내용 끝 ---\n",
    "\"\"\"\n",
    "\n",
    "\n",
    "prompt = \"\"\"\n",
    "이 직업에 대한 예상 면접 질문을 적어주세요.\n",
    "\n",
    "\n",
    "\"하드 스킬\"과 \"소프트 스킬 및 리더십\"에 대한 두 개의 섹션을 작성해주세요.\n",
    "\n",
    "\n",
    "각 섹션에 번호가 매겨진 목록으로 5개 항목을 작성해주세요.\n",
    "\"\"\"\n",
    "\n"
   ]
  },
  {
   "cell_type": "code",
   "execution_count": null,
   "metadata": {},
   "outputs": [],
   "source": [
    "completion = client.chat.completions.create(\n",
    "    model = 'gpt-3.5-turbo',\n",
    "    messages = [\n",
    "        {\"role\" : \"system\", \"content\" : system_prompt},\n",
    "         {\"role\":\"user\", \"content\" : prompt }\n",
    "    ],\n",
    "    max_tokens = 1024,\n",
    "    temperature = 0 # 0 ~ 1 대답이 얼마나 엉뚱하냐 1: 창의성 풍부\n",
    ")"
   ]
  },
  {
   "cell_type": "code",
   "execution_count": null,
   "metadata": {},
   "outputs": [
    {
     "name": "stdout",
     "output_type": "stream",
     "text": [
      "**하드 스킬:**\n",
      "\n",
      "1. LLM 기반 대화형 AI 기술에 대한 경험과 이해를 어떻게 쌓아왔는지 설명해주세요.\n",
      "2. Deep Learning 및 Machine Learning 알고리즘을 어떤 프로젝트에서 활용해 보았으며, 어떤 결과를 얻었는지 공유해주세요.\n",
      "3. 대화형 챗봇 또는 대규모 검색 서비스를 설계하고 개발한 경험에 대해 자세히 설명해주세요.\n",
      "4. Tensorflow, PyTorch, JAX 등의 Machine Learning Framework를 사용한 프로젝트를 어떻게 진행했는지에 대해 이야기해주세요.\n",
      "5. 프로그래밍 언어인 Python을 활용하여 어떤 프로젝트를 수행했고, 어떤 어려움을 겪었으며 어떻게 해결했는지에 대해 이야기해주세요.\n",
      "\n",
      "**소프트 스킬 및 리더십:**\n",
      "\n",
      "1. 팀 내 협업 경험이 있는 프로젝트를 공유하고, 그 과정에서 발생한 어려움과 해결 방법에 대해 설명해주세요.\n",
      "2. 어려운 결정을 내려야 했던 경험에 대해 이야기해주세요. 그 결정이 조직 또는 프로젝트에 미친 영향에 대해서도 언급해주세요.\n",
      "3. 팀 내에서 리더십을 발휘한 경험이 있다면, 그 상황과 그때의 역할 및 성과에 대해 설명해주세요.\n",
      "4. 새로운 기술이나 도메인을 학습하거나 도입할 때 어떻게 접근하고 학습하는지에 대해 이야기해주세요.\n",
      "5. 팀원들 간의 갈등 상황을 해결한 경험에 대해 공유하고, 그 과정에서 배운 점과 개선된 점에 대해 이야기해주세요.\n"
     ]
    }
   ],
   "source": [
    "print(completion.choices[0].message.content)"
   ]
  },
  {
   "cell_type": "code",
   "execution_count": null,
   "metadata": {},
   "outputs": [
    {
     "name": "stdout",
     "output_type": "stream",
     "text": [
      "2020년 월드 시리즈에서는 로스앤젤레스 다저스가 탬파베이 레이스를 상대로 우승했어. 6경기로 이루어진 시리즈에서 다저스가 4승 2패로 우승을 차지했고, 이는 32년 만에 다저스의 7번째 월드 시리즈 우승이자 2015년 이후 3번째 미국 리그 우승이었어.\n"
     ]
    }
   ],
   "source": [
    "response = client.chat.completions.create(\n",
    "    model = 'gpt-3.5-turbo',\n",
    "    messages = [\n",
    "        {\"role\" : \"system\", \"content\" : \"너는 스포츠 전문 기자야\"},\n",
    "         {\"role\":\"user\", \"content\" : \"2020년 월드 시리즈에서는 누가우승했어?\"}\n",
    "    ]\n",
    ")\n",
    "print(response.choices[0].message.content)"
   ]
  },
  {
   "cell_type": "code",
   "execution_count": null,
   "metadata": {},
   "outputs": [
    {
     "name": "stdout",
     "output_type": "stream",
     "text": [
      "로스앤젤레스 다저스는 2020년 월드 시리즈에서 탬파베이 레이스를 4승 2패로 이겼어.\n"
     ]
    }
   ],
   "source": [
    "response = client.chat.completions.create(\n",
    "    model = 'gpt-3.5-turbo',\n",
    "    messages = [\n",
    "        {\"role\" : \"system\", \"content\" : \"너는 스포츠 전문 기자야\"},\n",
    "         {\"role\":\"user\", \"content\" : response.choices[0].message.content},\n",
    "         {\"role\":\"user\", 'content':'몇대 몇으로 이겼어?'}\n",
    "    ]\n",
    ")\n",
    "print(response.choices[0].message.content)"
   ]
  }
 ],
 "metadata": {
  "kernelspec": {
   "display_name": "BlueMoonEnv",
   "language": "python",
   "name": "python3"
  },
  "language_info": {
   "codemirror_mode": {
    "name": "ipython",
    "version": 3
   },
   "file_extension": ".py",
   "mimetype": "text/x-python",
   "name": "python",
   "nbconvert_exporter": "python",
   "pygments_lexer": "ipython3",
   "version": "3.9.6"
  }
 },
 "nbformat": 4,
 "nbformat_minor": 2
}
