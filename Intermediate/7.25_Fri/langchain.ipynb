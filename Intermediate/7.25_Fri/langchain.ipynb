{
 "cells": [
  {
   "cell_type": "code",
   "execution_count": null,
   "metadata": {},
   "outputs": [],
   "source": [
    "import os\n",
    "import openai\n",
    "#이전의 방식은 \"소스코드를 내가 업로드 했을 때, 다른 사람들이 내 키를 볼수있다.\"\n",
    "#왼쪽 메뉴의 네번째 \"열쇠모양\" 클릭하여, 새 보안 비밀 추가\n",
    "#\"이름\" == userdata.get(이름), 값 = 내 openai_api_key\n",
    "#노트북 액세스를 허용\n",
    "from google.colab import userdata\n",
    "os.environ[\"OPENAI_API_KEY\"] = userdata.get(\"OPEN_AI_KEY\")\n",
    "openai.api_key = os.getenv(\"OPENAI_API_KEY\")"
   ]
  },
  {
   "cell_type": "code",
   "execution_count": null,
   "metadata": {},
   "outputs": [],
   "source": []
  }
 ],
 "metadata": {
  "kernelspec": {
   "display_name": "BlueMoonEnv",
   "language": "python",
   "name": "python3"
  },
  "language_info": {
   "name": "python",
   "version": "3.9.6"
  }
 },
 "nbformat": 4,
 "nbformat_minor": 2
}
