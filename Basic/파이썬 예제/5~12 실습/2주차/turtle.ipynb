{
 "cells": [
  {
   "cell_type": "code",
   "execution_count": 1,
   "metadata": {},
   "outputs": [],
   "source": [
    "import turtle\n",
    "turtle.setup(width=600, height=600)\n",
    "t = turtle.Pen()\n",
    "t.pencolor(\"red\")\n",
    "t.width(10)\n",
    "\n",
    "t.forward(200)\n",
    "t.right(180)\n",
    "t.forward(400)\n",
    "t.right(180)\n",
    "t.forward(200)\n",
    "t.left(90)\n",
    "t.forward(200)\n",
    "    "
   ]
  },
  {
   "cell_type": "code",
   "execution_count": null,
   "metadata": {},
   "outputs": [],
   "source": [
    "import turtle\n",
    "turtle.setup(width = 500, height = 500)\n",
    "edges = 100\n",
    "length = 600 / edges\n",
    "angle = 360 / edges\n",
    "t = turtle.Pen()\n",
    "t.pencolor(\"blue\")\n",
    "t.width(5)\n",
    "t.speed(5)\n",
    "for i in range(edges):\n",
    "    t.forward(length)\n",
    "    t.right(angle)"
   ]
  },
  {
   "cell_type": "code",
   "execution_count": null,
   "metadata": {},
   "outputs": [],
   "source": [
    "import random\n",
    "for n in [100, 1000, 10000]:\n",
    "    count = [0, 0, 0, 0, 0, 0]\n",
    "    print()\n",
    "    print(\"# of throws : \", n)\n",
    "    for i in range(n):\n",
    "        eye = random.randint(1, 6)\n",
    "        count[eye - 1] = count[eye - 1] + 1\n",
    "    print(count)\n",
    "    for i in range(len(count)):\n",
    "        print(\"%4.1f\" % float(count[i]/n*100), '% ', end = ' ')"
   ]
  },
  {
   "cell_type": "code",
   "execution_count": null,
   "metadata": {},
   "outputs": [],
   "source": []
  }
 ],
 "metadata": {
  "kernelspec": {
   "display_name": "test",
   "language": "python",
   "name": "python3"
  },
  "language_info": {
   "codemirror_mode": {
    "name": "ipython",
    "version": 3
   },
   "file_extension": ".py",
   "mimetype": "text/x-python",
   "name": "python",
   "nbconvert_exporter": "python",
   "pygments_lexer": "ipython3",
   "version": "3.12.2"
  }
 },
 "nbformat": 4,
 "nbformat_minor": 2
}
