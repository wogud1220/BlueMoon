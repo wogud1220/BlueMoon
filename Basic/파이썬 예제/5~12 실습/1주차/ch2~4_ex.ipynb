{
 "cells": [
  {
   "cell_type": "code",
   "execution_count": null,
   "metadata": {},
   "outputs": [],
   "source": [
    "import turtle\n",
    "t = turtle.Pen()\n",
    "t.shape(\"turtle\")\n",
    "t.forward(100)\n",
    "t.left(90)\n",
    "t.forward(100)\n",
    "t.left(90)\n",
    "t.forward(100)\n",
    "t.left(90)\n",
    "t.forward(100)\n",
    "t.left(90)\n",
    "Key = cv2.waitKey(1)"
   ]
  },
  {
   "cell_type": "code",
   "execution_count": null,
   "metadata": {},
   "outputs": [],
   "source": [
    "import turtle\n",
    "t = turtle.Pen()\n",
    "t.shape(\"turtle\")\n",
    "t.forward(100)\n",
    "t.left(72)\n",
    "t.forward(100)\n",
    "t.left(72)\n",
    "t.forward(100)\n",
    "t.right(72)"
   ]
  },
  {
   "cell_type": "code",
   "execution_count": null,
   "metadata": {},
   "outputs": [],
   "source": [
    "import turtle\n",
    "t = turtle.Pen()\n",
    "t.color('blue')\n",
    "t.speed(0)\n",
    "angle = 91\n",
    "for x in range(200):\n",
    "    t.forward(x)\n",
    "    t.left(angle)\n",
    "    t.hideturtle();\n",
    "  "
   ]
  },
  {
   "cell_type": "code",
   "execution_count": null,
   "metadata": {},
   "outputs": [],
   "source": [
    "score =70\n",
    "print(score)\n",
    "score =score+80\n",
    "print(score)\n",
    "score =95\n",
    "print(score)"
   ]
  },
  {
   "cell_type": "code",
   "execution_count": null,
   "metadata": {},
   "outputs": [],
   "source": [
    "score1 =70\n",
    "score2 =80\n",
    "score3 = score1+score2\n",
    "print(\"score1=\",score1)\n",
    "print(\"score2=\",score2)\n",
    "print(\"score3=\",score3)\n",
    "\n"
   ]
  },
  {
   "cell_type": "code",
   "execution_count": null,
   "metadata": {},
   "outputs": [],
   "source": [
    "sum=0\n",
    "sum=sum+70\n",
    "print(\"첫번째 합 :\",sum)\n",
    "sum=sum+90\n",
    "print(\"두번째합 :\",sum)"
   ]
  },
  {
   "cell_type": "code",
   "execution_count": null,
   "metadata": {},
   "outputs": [],
   "source": [
    "blance=0\n",
    "name=input(\"계좌이름 :\")\n",
    "amount=int(input(\"입금액 입력 :\"))\n",
    "blance=blance+amount\n",
    "print(name,\"님의 현재 잔액 :\",blance)"
   ]
  },
  {
   "cell_type": "code",
   "execution_count": null,
   "metadata": {},
   "outputs": [],
   "source": [
    "balance = 100000\n",
    "amount = int(input(\"출금액 입력: \"))\n",
    "if amount <= balance:\n",
    "  balance = balance-amount\n",
    "  print(\"현재 잔액:\", balance)\n",
    "else:\n",
    "  print(\"잔액이 부족 합니다\")\n"
   ]
  },
  {
   "cell_type": "code",
   "execution_count": null,
   "metadata": {},
   "outputs": [],
   "source": [
    "str1 = \"Python is easier than %s\"\n",
    "str2 = \"C++\"\n",
    "str1 % str2\n",
    "print(str1 % str2)\n"
   ]
  },
  {
   "cell_type": "code",
   "execution_count": null,
   "metadata": {},
   "outputs": [],
   "source": [
    "print(\"세 수를 입력하세요\")\n",
    "a = float(input())\n",
    "b = float(input())\n",
    "c = float(input())\n",
    "if a > b:\n",
    "    if a > c:\n",
    "       max = a\n",
    "    else:\n",
    "       max = c\n",
    "else:\n",
    "    if b > c:\n",
    "       max = b \n",
    "    else:\n",
    "       max = c\n",
    "print(\"가장 큰 수:\",  max)\n"
   ]
  },
  {
   "cell_type": "code",
   "execution_count": null,
   "metadata": {},
   "outputs": [],
   "source": [
    "sum=0\n",
    "for x in [1,3,5,7,9]:\n",
    "    sum = sum + x \n",
    "print(sum, end=\" \")"
   ]
  },
  {
   "cell_type": "code",
   "execution_count": null,
   "metadata": {},
   "outputs": [],
   "source": [
    "\n",
    "for x in range(10):\n",
    "    y=2**x\n",
    "    print('2^',x,'=',y)"
   ]
  },
  {
   "cell_type": "code",
   "execution_count": null,
   "metadata": {},
   "outputs": [],
   "source": [
    "list = [24.9, 29.3, 28.3, 29.9, 29.6, 32.5, 29.7, 26.3, 31.8, 34.3,\n",
    "        36.0, 28.0, 24.9, 31.4, 33.9, 28.9, 29.6, 24.8, 29.8, 31.2,\n",
    "        29.6, 31.7, 32.1, 24.4, 26.4, 30.0, 30.0, 31.2, 28.8, 33.1]\n",
    "target = float(input(\"기준 온도: \"))\n",
    "for index in range(len(list)):\n",
    " if list[index] >= target:\n",
    "    print(\"%2d일 : %4.1f 도\" %((index+1), list[index]))\n"
   ]
  },
  {
   "cell_type": "code",
   "execution_count": null,
   "metadata": {},
   "outputs": [],
   "source": [
    "list = [24.9, 29.3, 28.3, 29.9, 29.6, 32.5, 29.7, 26.3, 31.8, 34.3,\n",
    "        36.0, 28.0, 24.9, 31.4, 33.9, 28.9, 29.6, 24.8, 29.8, 31.2,\n",
    "        29.6, 31.7, 32.1, 24.4, 26.4, 30.0, 30.0, 31.2, 28.8, 33.1]\n",
    "maxday = 0\n",
    "max = -100\n",
    "for index in range(len(list)):\n",
    " if list[index] > max:\n",
    "    max = list[index]\n",
    "    maxday = index+1\n",
    "print(\"월 최고기온 %d 일 : %.1f 도\" %(maxday, max))"
   ]
  },
  {
   "cell_type": "code",
   "execution_count": null,
   "metadata": {},
   "outputs": [],
   "source": [
    "sum = 0\n",
    "print(\"1부터 N까지 더하기\")\n",
    "N = int(input(\"N ? \"))\n",
    "for count in range(1,N+1): \n",
    " sum = sum + count\n",
    "print(\"합계: \", sum)\n"
   ]
  },
  {
   "cell_type": "code",
   "execution_count": 3,
   "metadata": {},
   "outputs": [
    {
     "name": "stdout",
     "output_type": "stream",
     "text": [
      " 1 개월 입금, 현재 금액:   30000.00 원\n",
      " 2 개월 입금, 현재 금액:   60060.00 원\n",
      " 3 개월 입금, 현재 금액:   90180.12 원\n",
      " 4 개월 입금, 현재 금액:  120360.48 원\n",
      " 5 개월 입금, 현재 금액:  150601.20 원\n",
      " 6 개월 입금, 현재 금액:  180902.40 원\n",
      " 7 개월 입금, 현재 금액:  211264.21 원\n",
      " 8 개월 입금, 현재 금액:  241686.74 원\n",
      " 9 개월 입금, 현재 금액:  272170.11 원\n",
      "10 개월 입금, 현재 금액:  302714.45 원\n",
      "11 개월 입금, 현재 금액:  333319.88 원\n",
      "12 개월 입금, 현재 금액:  363986.52 원\n",
      "13 개월 입금, 현재 금액:  394714.49 원\n",
      "14 개월 입금, 현재 금액:  425503.92 원\n",
      "15 개월 입금, 현재 금액:  456354.93 원\n",
      "16 개월 입금, 현재 금액:  487267.64 원\n",
      "17 개월 입금, 현재 금액:  518242.17 원\n",
      "18 개월 입금, 현재 금액:  549278.66 원\n",
      "19 개월 입금, 현재 금액:  580377.22 원\n",
      "20 개월 입금, 현재 금액:  611537.97 원\n",
      "21 개월 입금, 현재 금액:  642761.05 원\n",
      "22 개월 입금, 현재 금액:  674046.57 원\n",
      "23 개월 입금, 현재 금액:  705394.66 원\n",
      "24 개월 입금, 현재 금액:  736805.45 원\n",
      "25 개월 입금, 현재 금액:  768279.06 원\n",
      "26 개월 입금, 현재 금액:  799815.62 원\n",
      "27 개월 입금, 현재 금액:  831415.25 원\n",
      "28 개월 입금, 현재 금액:  863078.08 원\n",
      "29 개월 입금, 현재 금액:  894804.24 원\n",
      "30 개월 입금, 현재 금액:  926593.85 원\n",
      "31 개월 입금, 현재 금액:  958447.03 원\n",
      "32 개월 입금, 현재 금액:  990363.93 원\n",
      "33 개월 입금, 현재 금액: 1022344.66 원\n",
      "34 개월 입금, 현재 금액: 1054389.35 원\n",
      "35 개월 입금, 현재 금액: 1086498.12 원\n",
      "36 개월 입금, 현재 금액: 1118671.12 원\n"
     ]
    }
   ],
   "source": [
    "balance = 0\n",
    "amount = 30000\n",
    "rate = 0.002\n",
    "for month in range(1,37):\n",
    "   balance = balance * (1 + rate) \n",
    "   balance = balance + amount\n",
    "   print(\"%2d 개월 입금, 현재 금액: %10.2f 원\" %(month, balance))"
   ]
  },
  {
   "cell_type": "code",
   "execution_count": 5,
   "metadata": {},
   "outputs": [
    {
     "name": "stdout",
     "output_type": "stream",
     "text": [
      "0 F = -17.8 C\n",
      "10 F = -12.2 C\n",
      "20 F = -6.7 C\n",
      "30 F = -1.1 C\n",
      "40 F = 4.4 C\n",
      "50 F = 10.0 C\n",
      "60 F = 15.6 C\n",
      "70 F = 21.1 C\n",
      "80 F = 26.7 C\n",
      "90 F = 32.2 C\n",
      "100 F = 37.8 C\n"
     ]
    }
   ],
   "source": [
    "for fahr in range(0, 101, 10):\n",
    " celsius = (fahr - 32) * 5 / 9\n",
    " print(fahr, \"F = %.1f\" %celsius, \"C\")\n"
   ]
  },
  {
   "cell_type": "code",
   "execution_count": 6,
   "metadata": {},
   "outputs": [
    {
     "name": "stdout",
     "output_type": "stream",
     "text": [
      "1 부터 45 까지의 합계: 1035\n"
     ]
    }
   ],
   "source": [
    "# while 루프를 이용하여 자연수를 더하는 프로그램\n",
    "count = 1\n",
    "sum = 0\n",
    "limit = 1000 \n",
    "while sum <= limit:\n",
    " sum = sum + count\n",
    " count = count + 1\n",
    "print(\"1 부터\", count-1, \"까지의 합계:\", sum)\n"
   ]
  },
  {
   "cell_type": "code",
   "execution_count": 7,
   "metadata": {},
   "outputs": [
    {
     "name": "stdout",
     "output_type": "stream",
     "text": [
      "1부터 N까지 더하기\n",
      "합계:  5050\n"
     ]
    }
   ],
   "source": [
    "# for 루프를 이용하여 1부터 N까지 더하는 프로그램\n",
    "sum = 0\n",
    "print(\"1부터 N까지 더하기\")\n",
    "N = int(input(\"N ? \"))\n",
    "for count in range(1,N+1): \n",
    " sum = sum + count\n",
    "print(\"합계: \", sum)"
   ]
  },
  {
   "cell_type": "code",
   "execution_count": 8,
   "metadata": {},
   "outputs": [
    {
     "name": "stdout",
     "output_type": "stream",
     "text": [
      "1부터 N까지 더하기\n",
      "합계:  5050\n"
     ]
    }
   ],
   "source": [
    "# while 루프를 이용하여 1부터 N까지 더하는 프로그램\n",
    "count = 1\n",
    "sum = 0\n",
    "print(\"1부터 N까지 더하기\")\n",
    "N = int(input(\"N ? \"))\n",
    "while count <= N:\n",
    "    sum = sum + count\n",
    "    count = count + 1\n",
    "print(\"합계: \", sum)\n"
   ]
  },
  {
   "cell_type": "code",
   "execution_count": 9,
   "metadata": {},
   "outputs": [
    {
     "name": "stdout",
     "output_type": "stream",
     "text": [
      "* 온도 변환 메뉴 *\n",
      "1. 화씨-섭씨 변환\n",
      "2. 섭씨-화씨 변환\n",
      "3. 종료\n",
      "화씨 온도: 86.0\n",
      "종료합니다\n"
     ]
    }
   ],
   "source": [
    "# 온도 변환 메뉴에 따른 화씨 온도-섭씨 온도 변환 프로그램\n",
    "print(\"* 온도 변환 메뉴 *\")\n",
    "print(\"1. 화씨-섭씨 변환\")\n",
    "print(\"2. 섭씨-화씨 변환\")\n",
    "print(\"3. 종료\")\n",
    "menu = 0\n",
    "while menu != 3:\n",
    "  menu = int(input(\"메뉴를 선택하세요 : \"))\n",
    "  if menu == 1:\n",
    "    fahr = float(input(\"화씨 온도 입력: \"))\n",
    "    celsius = (fahr - 32) * 5 / 9\n",
    "    print(\"섭씨 온도: %.1f\" %celsius)\n",
    "  elif menu == 2:\n",
    "    celsius = float(input(\"섭씨 온도 입력: \"))\n",
    "    fahr = celsius * 9/5 + 32 \n",
    "    print(\"화씨 온도: %.1f\" %fahr)\n",
    "  elif menu == 3:\n",
    "   print(\"종료합니다\")\n",
    "  else:\n",
    "   print(\"잘못된 메뉴입니다\")"
   ]
  },
  {
   "cell_type": "code",
   "execution_count": 16,
   "metadata": {},
   "outputs": [
    {
     "name": "stdout",
     "output_type": "stream",
     "text": [
      "2 * 1 = 2\n",
      "2 * 2 = 4\n",
      "2 * 3 = 6\n",
      "2 * 4 = 8\n",
      "2 * 5 = 10\n",
      "2 * 6 = 12\n",
      "2 * 7 = 14\n",
      "2 * 8 = 16\n",
      "2 * 9 = 18\n"
     ]
    }
   ],
   "source": [
    "\n",
    "for j in range(1,10): \n",
    "    print('2 *', j,  '=', 2 * j)\n"
   ]
  },
  {
   "cell_type": "code",
   "execution_count": 18,
   "metadata": {},
   "outputs": [
    {
     "name": "stdout",
     "output_type": "stream",
     "text": [
      "2 * 1 = 2\n",
      "2 * 2 = 4\n",
      "2 * 3 = 6\n",
      "2 * 4 = 8\n",
      "2 * 5 = 10\n",
      "2 * 6 = 12\n",
      "2 * 7 = 14\n",
      "2 * 8 = 16\n",
      "2 * 9 = 18\n",
      "3 * 1 = 3\n",
      "3 * 2 = 6\n",
      "3 * 3 = 9\n",
      "3 * 4 = 12\n",
      "3 * 5 = 15\n",
      "3 * 6 = 18\n",
      "3 * 7 = 21\n",
      "3 * 8 = 24\n",
      "3 * 9 = 27\n",
      "4 * 1 = 4\n",
      "4 * 2 = 8\n",
      "4 * 3 = 12\n",
      "4 * 4 = 16\n",
      "4 * 5 = 20\n",
      "4 * 6 = 24\n",
      "4 * 7 = 28\n",
      "4 * 8 = 32\n",
      "4 * 9 = 36\n",
      "5 * 1 = 5\n",
      "5 * 2 = 10\n",
      "5 * 3 = 15\n",
      "5 * 4 = 20\n",
      "5 * 5 = 25\n",
      "5 * 6 = 30\n",
      "5 * 7 = 35\n",
      "5 * 8 = 40\n",
      "5 * 9 = 45\n",
      "6 * 1 = 6\n",
      "6 * 2 = 12\n",
      "6 * 3 = 18\n",
      "6 * 4 = 24\n",
      "6 * 5 = 30\n",
      "6 * 6 = 36\n",
      "6 * 7 = 42\n",
      "6 * 8 = 48\n",
      "6 * 9 = 54\n",
      "7 * 1 = 7\n",
      "7 * 2 = 14\n",
      "7 * 3 = 21\n",
      "7 * 4 = 28\n",
      "7 * 5 = 35\n",
      "7 * 6 = 42\n",
      "7 * 7 = 49\n",
      "7 * 8 = 56\n",
      "7 * 9 = 63\n",
      "8 * 1 = 8\n",
      "8 * 2 = 16\n",
      "8 * 3 = 24\n",
      "8 * 4 = 32\n",
      "8 * 5 = 40\n",
      "8 * 6 = 48\n",
      "8 * 7 = 56\n",
      "8 * 8 = 64\n",
      "8 * 9 = 72\n",
      "9 * 1 = 9\n",
      "9 * 2 = 18\n",
      "9 * 3 = 27\n",
      "9 * 4 = 36\n",
      "9 * 5 = 45\n",
      "9 * 6 = 54\n",
      "9 * 7 = 63\n",
      "9 * 8 = 72\n",
      "9 * 9 = 81\n"
     ]
    }
   ],
   "source": [
    "# 중첩 for 루프를 이용한 구구단 출력 프로그램\n",
    "for i in range(2,10):\n",
    "    for j in range(1,10):\n",
    "        print(i, \"*\", j, \"=\", i*j)\n"
   ]
  },
  {
   "cell_type": "code",
   "execution_count": 20,
   "metadata": {},
   "outputs": [
    {
     "name": "stdout",
     "output_type": "stream",
     "text": [
      "1단\t\t2단\t\t3단\n",
      "1*1=1 \t\t2*1=2 \t\t3*1=3\n",
      "1*2=2 \t\t2*2=4 \t\t3*2=6\n",
      "1*3=3 \t\t2*3=6 \t\t3*3=9\n",
      "1*4=4 \t\t2*4=8 \t\t3*4=12\n",
      "1*5=5 \t\t2*5=10 \t\t3*5=15\n",
      "1*6=6 \t\t2*6=12 \t\t3*6=18\n",
      "1*7=7 \t\t2*7=14 \t\t3*7=21\n",
      "1*8=8 \t\t2*8=16 \t\t3*8=24\n",
      "1*9=9 \t\t2*9=18 \t\t3*9=27\n",
      "\n",
      "4단\t\t5단\t\t6단\n",
      "4*1=4 \t\t5*1=5 \t\t6*1=6\n",
      "4*2=8 \t\t5*2=10 \t\t6*2=12\n",
      "4*3=12 \t\t5*3=15 \t\t6*3=18\n",
      "4*4=16 \t\t5*4=20 \t\t6*4=24\n",
      "4*5=20 \t\t5*5=25 \t\t6*5=30\n",
      "4*6=24 \t\t5*6=30 \t\t6*6=36\n",
      "4*7=28 \t\t5*7=35 \t\t6*7=42\n",
      "4*8=32 \t\t5*8=40 \t\t6*8=48\n",
      "4*9=36 \t\t5*9=45 \t\t6*9=54\n",
      "\n",
      "7단\t\t8단\t\t9단\n",
      "7*1=7 \t\t8*1=8 \t\t9*1=9\n",
      "7*2=14 \t\t8*2=16 \t\t9*2=18\n",
      "7*3=21 \t\t8*3=24 \t\t9*3=27\n",
      "7*4=28 \t\t8*4=32 \t\t9*4=36\n",
      "7*5=35 \t\t8*5=40 \t\t9*5=45\n",
      "7*6=42 \t\t8*6=48 \t\t9*6=54\n",
      "7*7=49 \t\t8*7=56 \t\t9*7=63\n",
      "7*8=56 \t\t8*8=64 \t\t9*8=72\n",
      "7*9=63 \t\t8*9=72 \t\t9*9=81\n",
      "\n",
      "1 단\t\t 2 단\t\t 3 단\n",
      "1 * 1 = 1 \t 2 * 1 = 2 \t 3 * 1 = 3\n",
      "1 * 2 = 2 \t 2 * 2 = 4 \t 3 * 2 = 6\n",
      "1 * 3 = 3 \t 2 * 3 = 6 \t 3 * 3 = 9\n",
      "1 * 4 = 4 \t 2 * 4 = 8 \t 3 * 4 = 12\n",
      "1 * 5 = 5 \t 2 * 5 = 10 \t 3 * 5 = 15\n",
      "1 * 6 = 6 \t 2 * 6 = 12 \t 3 * 6 = 18\n",
      "1 * 7 = 7 \t 2 * 7 = 14 \t 3 * 7 = 21\n",
      "1 * 8 = 8 \t 2 * 8 = 16 \t 3 * 8 = 24\n",
      "1 * 9 = 9 \t 2 * 9 = 18 \t 3 * 9 = 27\n",
      "\n",
      "4 단\t\t 5 단\t\t 6 단\n",
      "4 * 1 = 4 \t 5 * 1 = 5 \t 6 * 1 = 6\n",
      "4 * 2 = 8 \t 5 * 2 = 10 \t 6 * 2 = 12\n",
      "4 * 3 = 12 \t 5 * 3 = 15 \t 6 * 3 = 18\n",
      "4 * 4 = 16 \t 5 * 4 = 20 \t 6 * 4 = 24\n",
      "4 * 5 = 20 \t 5 * 5 = 25 \t 6 * 5 = 30\n",
      "4 * 6 = 24 \t 5 * 6 = 30 \t 6 * 6 = 36\n",
      "4 * 7 = 28 \t 5 * 7 = 35 \t 6 * 7 = 42\n",
      "4 * 8 = 32 \t 5 * 8 = 40 \t 6 * 8 = 48\n",
      "4 * 9 = 36 \t 5 * 9 = 45 \t 6 * 9 = 54\n",
      "\n",
      "7 단\t\t 8 단\t\t 9 단\n",
      "7 * 1 = 7 \t 8 * 1 = 8 \t 9 * 1 = 9\n",
      "7 * 2 = 14 \t 8 * 2 = 16 \t 9 * 2 = 18\n",
      "7 * 3 = 21 \t 8 * 3 = 24 \t 9 * 3 = 27\n",
      "7 * 4 = 28 \t 8 * 4 = 32 \t 9 * 4 = 36\n",
      "7 * 5 = 35 \t 8 * 5 = 40 \t 9 * 5 = 45\n",
      "7 * 6 = 42 \t 8 * 6 = 48 \t 9 * 6 = 54\n",
      "7 * 7 = 49 \t 8 * 7 = 56 \t 9 * 7 = 63\n",
      "7 * 8 = 56 \t 8 * 8 = 64 \t 9 * 8 = 72\n",
      "7 * 9 = 63 \t 8 * 9 = 72 \t 9 * 9 = 81\n",
      "\n"
     ]
    }
   ],
   "source": [
    "\n",
    "num = 1\n",
    "line = 1\n",
    "\n",
    "while line <= 3:\n",
    "    print(str(num)+\"단\\t\\t\"+str(num+1)+\"단\\t\\t\"+str(num+2)+\"단\")\n",
    "    multiplyNum = 1\n",
    "    while multiplyNum <= 9:\n",
    "        print(str(num)+\"*\"+str(multiplyNum)+\"=\"+str(num*multiplyNum),\n",
    "              \"\\t\\t\"+str(num+1)+\"*\"+str(multiplyNum)+\"=\"+str((num+1)*multiplyNum),\n",
    "              \"\\t\\t\"+str(num+2)+\"*\"+str(multiplyNum)+\"=\"+str((num+2)*multiplyNum))\n",
    "        multiplyNum += 1\n",
    "    print()\n",
    "    num += 3\n",
    "    line += 1\n",
    "\n",
    "\n",
    "for i in range(1,9,3):\n",
    "    print(i,\"단\\t\\t\",i+1,\"단\\t\\t\",i+2,\"단\")\n",
    "    for j in range(1,10):\n",
    "        print(i,\"*\",j,\"=\",i*j,\"\\t\",\n",
    "              i+1,\"*\",j,\"=\",(i+1)*j,\"\\t\",\n",
    "              i+2,\"*\",j,\"=\",(i+2)*j)\n",
    "    print()\n"
   ]
  }
 ],
 "metadata": {
  "kernelspec": {
   "display_name": "test2",
   "language": "python",
   "name": "python3"
  },
  "language_info": {
   "codemirror_mode": {
    "name": "ipython",
    "version": 3
   },
   "file_extension": ".py",
   "mimetype": "text/x-python",
   "name": "python",
   "nbconvert_exporter": "python",
   "pygments_lexer": "ipython3",
   "version": "3.12.2"
  }
 },
 "nbformat": 4,
 "nbformat_minor": 2
}
