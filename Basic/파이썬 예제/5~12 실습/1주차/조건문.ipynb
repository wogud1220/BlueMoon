{
 "cells": [
  {
   "cell_type": "code",
   "execution_count": 7,
   "metadata": {},
   "outputs": [
    {
     "name": "stdout",
     "output_type": "stream",
     "text": [
      "키와 몸무게를 입력하면 체질량지수를 계산합니다\n",
      "* 체질량지수 : 19.0 \n",
      "* 정상\n"
     ]
    }
   ],
   "source": [
    "print(\"키와 몸무게를 입력하면 체질량지수를 계산합니다\")\n",
    "height = float(input(\"키(cm) : \"))\n",
    "weight = float(input(\"몸무게(kg) : \"))\n",
    "BMI = weight / (height/100 * height/100)\n",
    "print(\"* 체질량지수 : %3.1f \" %BMI)\n",
    "if BMI < 18.5:\n",
    "    print(\"* 저체중\")\n",
    "elif BMI < 23:\n",
    "    print(\"* 정상\")\n",
    "elif BMI < 25:\n",
    "    print(\"* 과체중\")\n",
    "elif BMI < 30:\n",
    "    print(\"* 비만\")\n",
    "else:\n",
    "    print(\"* 고도비만\")"
   ]
  },
  {
   "cell_type": "code",
   "execution_count": null,
   "metadata": {},
   "outputs": [],
   "source": [
    "import random\n",
    "answer = random.randint(1, 100) # 1~100 사이의 난수 발생\n",
    "num = 0\n",
    "times = 6\n",
    "\n",
    "while (num != answer) and (times > 0):\n",
    "    num = int(input(\"값을 입력하세요 \"))\n",
    "    if num < answer:\n",
    "        print(\"정답보다 작습니다. \")\n",
    "    elif num > answer:\n",
    "        print(\"정답보다 큽니다.\")\n",
    "        times = times - 1\n",
    "        print(times, \"번 기회가 남았습니다.\")\n",
    "        print()\n",
    "\n",
    "if num == answer:\n",
    "    print(\"정답입니다.\")\n",
    "else:\n",
    "    print(\"더이상 기회가 없습니다. 정답은\", answer)"
   ]
  },
  {
   "cell_type": "code",
   "execution_count": 3,
   "metadata": {},
   "outputs": [
    {
     "name": "stdout",
     "output_type": "stream",
     "text": [
      "근로소득세액 : 24743460 만원\n"
     ]
    }
   ],
   "source": [
    "amount = int(input(\"과세 표준 금액 입력(만원 단위): \"))\n",
    "\n",
    "if amount <= 1200:\n",
    "    total = amount * 0.06\n",
    "            \n",
    "elif 1200 < amount <= 4600:\n",
    "    total = 72 + (amount - 1200) * 0.15\n",
    "            \n",
    "elif 4600 < amount <= 8800:\n",
    "    total = 582 + (amount - 4600) * 0.24\n",
    "            \n",
    "elif 8800 < amount <= 15000:\n",
    "    total = 1590 + (amount - 8800) * 0.35\n",
    "            \n",
    "elif 15000 < amount <= 30000:\n",
    "    total = 3760 + (amount - 15000) * 0.38\n",
    "            \n",
    "elif 30000 < amount <= 50000:\n",
    "    total = 9460 + (amount - 30000) * 0.4\n",
    "            \n",
    "elif 50000 < amount <= 100000:\n",
    "    total = 17460 + (amount - 50000) * 0.42\n",
    "            \n",
    "else:\n",
    "    total = 38460 + (amount - 100000) * 0.45\n",
    "\n",
    "\n",
    "print(\"근로소득세액 :\", int(total), \"만원\")\n"
   ]
  },
  {
   "cell_type": "code",
   "execution_count": 5,
   "metadata": {},
   "outputs": [
    {
     "name": "stdout",
     "output_type": "stream",
     "text": [
      "초과 요금 : 15,840 원\n",
      "총 이용 요금 : 53,240 원\n"
     ]
    }
   ],
   "source": [
    "call = int(input(\"음성 통화 시간(초) : \"))\n",
    "text = int(input(\"문자 건수 : \"))\n",
    "data = int(input(\"데이터 사용량(MB) : \"))\n",
    "\n",
    "basic = 37400\n",
    "freeCall = 120 * 60\n",
    "freeText = 200\n",
    "freeData = 1024\n",
    "\n",
    "call_fee = 1.98\n",
    "text_fee = 22\n",
    "data_fee = 55\n",
    "\n",
    "if call - freeCall > 0:\n",
    "    overCall = (call - freeCall) * call_fee\n",
    "else:\n",
    "    overCall = 0\n",
    "\n",
    "if text - freeText > 0:\n",
    "    overText = (text - freeText) * text_fee\n",
    "else:\n",
    "    overText = 0\n",
    "\n",
    "if data - freeData > 0:\n",
    "    overData = (data - freeData) * data_fee\n",
    "else:\n",
    "    overData = 0\n",
    "\n",
    "over_fee = int(overCall + overText + overData)\n",
    "total = int(basic + over_fee)\n",
    "\n",
    "\n",
    "over_fee = format(over_fee, ',')\n",
    "total = format(total, ',')\n",
    "\n",
    "print(\"초과 요금 :\", over_fee, \"원\")\n",
    "print(\"총 이용 요금 :\", total, \"원\")\n"
   ]
  }
 ],
 "metadata": {
  "kernelspec": {
   "display_name": "test",
   "language": "python",
   "name": "python3"
  },
  "language_info": {
   "codemirror_mode": {
    "name": "ipython",
    "version": 3
   },
   "file_extension": ".py",
   "mimetype": "text/x-python",
   "name": "python",
   "nbconvert_exporter": "python",
   "pygments_lexer": "ipython3",
   "version": "3.12.2"
  }
 },
 "nbformat": 4,
 "nbformat_minor": 2
}
