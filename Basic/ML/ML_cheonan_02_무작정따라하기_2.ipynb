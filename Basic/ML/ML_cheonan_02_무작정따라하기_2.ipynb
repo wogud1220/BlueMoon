{
  "nbformat": 4,
  "nbformat_minor": 0,
  "metadata": {
    "colab": {
      "provenance": [],
      "gpuType": "T4"
    },
    "kernelspec": {
      "name": "python3",
      "display_name": "Python 3"
    },
    "language_info": {
      "name": "python"
    },
    "accelerator": "GPU"
  },
  "cells": [
    {
      "cell_type": "markdown",
      "source": [
        "01_선형회귀"
      ],
      "metadata": {
        "id": "3jdoJzJHYomP"
      }
    },
    {
      "cell_type": "code",
      "execution_count": null,
      "metadata": {
        "colab": {
          "base_uri": "https://localhost:8080/"
        },
        "id": "6SNHBiRCWsfK",
        "outputId": "5a81a6b6-b365-4551-c12a-d7265e6bbcc3"
      },
      "outputs": [
        {
          "output_type": "stream",
          "name": "stdout",
          "text": [
            "[0.50009091]\n",
            "3.0000909090909094\n"
          ]
        }
      ],
      "source": [
        "from sklearn.linear_model import LinearRegression\n",
        "\n",
        "# 특징\n",
        "\n",
        "# 특징\n",
        "x = [[10.0], [8.0], [13.0], [9.0], [11.0], [14.0],\n",
        "     [6.0], [4.0], [12.0], [7.0], [5.0]]\n",
        "\n",
        "# 종속 변수\n",
        "y = [8.04, 6.95, 7.58, 8.81, 8.33, 9.96,\n",
        "     7.24, 4.26, 10.84, 4.82, 5.68]\n",
        "\n",
        "# 선형회귀 모델 생성, 학습\n",
        "model =  LinearRegression()\n",
        "model.fit(x,y)\n",
        "\n",
        "print(model.coef_)  # 기울기 출력\n",
        "print(model.intercept_) # 절편 출력\n",
        "\n",
        "# 회귀식: y = 0.50009091 x + 3.0000909090909094"
      ]
    },
    {
      "cell_type": "code",
      "source": [
        "# 정규화\n",
        "import numpy as np\n",
        "import pandas as pd\n",
        "import matplotlib.pyplot as plt\n",
        "\n",
        "from sklearn.preprocessing import PolynomialFeatures\n",
        "from sklearn.linear_model import Ridge\n",
        "from sklearn.metrics import mean_squared_error\n",
        "\n",
        "# 학습 데이터 개수 설정\n",
        "train_size = 20\n",
        "\n",
        "# 검정 데이터 개수 설정\n",
        "test_size = 12\n",
        "\n",
        "# 학습 및 검정 데이터 특징으로 사용할 무작위 표본 추출\n",
        "train_x = np.random.uniform(low=0, high=1.2, size=train_size)\n",
        "test_x = np.random.uniform(low=0.1, high=1.3, size=test_size)\n",
        "\n",
        "# 학습 및 검정 데이터 종속 변수로 사용할 데이터 정의\n",
        "train_y = np.sin(train_x * 2 * np.pi) + np.random.normal(0, 0.2, train_size)\n",
        "test_y = np.sin(test_x * 2 * np.pi) + np.random.normal(0, 0.2, test_size)\n",
        "\n",
        "poly = PolynomialFeatures(6) # 6차식\n",
        "print(poly)\n",
        "print()"
      ],
      "metadata": {
        "colab": {
          "base_uri": "https://localhost:8080/"
        },
        "id": "uC0dhHr0Zp4y",
        "outputId": "313b2678-f81f-4eb2-d381-4e669c4c2646"
      },
      "execution_count": null,
      "outputs": [
        {
          "output_type": "stream",
          "name": "stdout",
          "text": [
            "PolynomialFeatures(degree=6)\n",
            "\n"
          ]
        }
      ]
    },
    {
      "cell_type": "code",
      "source": [
        "# 6차식에서 학습 데이터 특징으로 학습 >> 결과를 배열로 변환\n",
        "train_poly_x = poly.fit_transform(train_x.reshape(train_size, 1))\n",
        "test_poly_x = poly.fit_transform(test_x.reshape(test_size, 1))"
      ],
      "metadata": {
        "id": "yja1WA0qZ9cf"
      },
      "execution_count": null,
      "outputs": []
    },
    {
      "cell_type": "code",
      "source": [
        "# Ridge 모델 생성 >> 6차식 학습결과와 학습 데이터 종속변수로 학습\n",
        "model = Ridge(alpha=1.0)\n",
        "model.fit(train_poly_x, train_y)\n",
        "# fit() train data 로 함\n",
        "# >> 왜? 모델을 구축해야 하니깐\n",
        "# >> 근데 모델구축 훈련용 데이터로만 하니깐"
      ],
      "metadata": {
        "colab": {
          "base_uri": "https://localhost:8080/",
          "height": 75
        },
        "id": "Wex-_p3NdqYU",
        "outputId": "7560656a-5f6f-4e61-ca2c-b974937ef23e"
      },
      "execution_count": null,
      "outputs": [
        {
          "output_type": "execute_result",
          "data": {
            "text/plain": [
              "Ridge()"
            ],
            "text/html": [
              "<style>#sk-container-id-1 {color: black;background-color: white;}#sk-container-id-1 pre{padding: 0;}#sk-container-id-1 div.sk-toggleable {background-color: white;}#sk-container-id-1 label.sk-toggleable__label {cursor: pointer;display: block;width: 100%;margin-bottom: 0;padding: 0.3em;box-sizing: border-box;text-align: center;}#sk-container-id-1 label.sk-toggleable__label-arrow:before {content: \"▸\";float: left;margin-right: 0.25em;color: #696969;}#sk-container-id-1 label.sk-toggleable__label-arrow:hover:before {color: black;}#sk-container-id-1 div.sk-estimator:hover label.sk-toggleable__label-arrow:before {color: black;}#sk-container-id-1 div.sk-toggleable__content {max-height: 0;max-width: 0;overflow: hidden;text-align: left;background-color: #f0f8ff;}#sk-container-id-1 div.sk-toggleable__content pre {margin: 0.2em;color: black;border-radius: 0.25em;background-color: #f0f8ff;}#sk-container-id-1 input.sk-toggleable__control:checked~div.sk-toggleable__content {max-height: 200px;max-width: 100%;overflow: auto;}#sk-container-id-1 input.sk-toggleable__control:checked~label.sk-toggleable__label-arrow:before {content: \"▾\";}#sk-container-id-1 div.sk-estimator input.sk-toggleable__control:checked~label.sk-toggleable__label {background-color: #d4ebff;}#sk-container-id-1 div.sk-label input.sk-toggleable__control:checked~label.sk-toggleable__label {background-color: #d4ebff;}#sk-container-id-1 input.sk-hidden--visually {border: 0;clip: rect(1px 1px 1px 1px);clip: rect(1px, 1px, 1px, 1px);height: 1px;margin: -1px;overflow: hidden;padding: 0;position: absolute;width: 1px;}#sk-container-id-1 div.sk-estimator {font-family: monospace;background-color: #f0f8ff;border: 1px dotted black;border-radius: 0.25em;box-sizing: border-box;margin-bottom: 0.5em;}#sk-container-id-1 div.sk-estimator:hover {background-color: #d4ebff;}#sk-container-id-1 div.sk-parallel-item::after {content: \"\";width: 100%;border-bottom: 1px solid gray;flex-grow: 1;}#sk-container-id-1 div.sk-label:hover label.sk-toggleable__label {background-color: #d4ebff;}#sk-container-id-1 div.sk-serial::before {content: \"\";position: absolute;border-left: 1px solid gray;box-sizing: border-box;top: 0;bottom: 0;left: 50%;z-index: 0;}#sk-container-id-1 div.sk-serial {display: flex;flex-direction: column;align-items: center;background-color: white;padding-right: 0.2em;padding-left: 0.2em;position: relative;}#sk-container-id-1 div.sk-item {position: relative;z-index: 1;}#sk-container-id-1 div.sk-parallel {display: flex;align-items: stretch;justify-content: center;background-color: white;position: relative;}#sk-container-id-1 div.sk-item::before, #sk-container-id-1 div.sk-parallel-item::before {content: \"\";position: absolute;border-left: 1px solid gray;box-sizing: border-box;top: 0;bottom: 0;left: 50%;z-index: -1;}#sk-container-id-1 div.sk-parallel-item {display: flex;flex-direction: column;z-index: 1;position: relative;background-color: white;}#sk-container-id-1 div.sk-parallel-item:first-child::after {align-self: flex-end;width: 50%;}#sk-container-id-1 div.sk-parallel-item:last-child::after {align-self: flex-start;width: 50%;}#sk-container-id-1 div.sk-parallel-item:only-child::after {width: 0;}#sk-container-id-1 div.sk-dashed-wrapped {border: 1px dashed gray;margin: 0 0.4em 0.5em 0.4em;box-sizing: border-box;padding-bottom: 0.4em;background-color: white;}#sk-container-id-1 div.sk-label label {font-family: monospace;font-weight: bold;display: inline-block;line-height: 1.2em;}#sk-container-id-1 div.sk-label-container {text-align: center;}#sk-container-id-1 div.sk-container {/* jupyter's `normalize.less` sets `[hidden] { display: none; }` but bootstrap.min.css set `[hidden] { display: none !important; }` so we also need the `!important` here to be able to override the default hidden behavior on the sphinx rendered scikit-learn.org. See: https://github.com/scikit-learn/scikit-learn/issues/21755 */display: inline-block !important;position: relative;}#sk-container-id-1 div.sk-text-repr-fallback {display: none;}</style><div id=\"sk-container-id-1\" class=\"sk-top-container\"><div class=\"sk-text-repr-fallback\"><pre>Ridge()</pre><b>In a Jupyter environment, please rerun this cell to show the HTML representation or trust the notebook. <br />On GitHub, the HTML representation is unable to render, please try loading this page with nbviewer.org.</b></div><div class=\"sk-container\" hidden><div class=\"sk-item\"><div class=\"sk-estimator sk-toggleable\"><input class=\"sk-toggleable__control sk-hidden--visually\" id=\"sk-estimator-id-1\" type=\"checkbox\" checked><label for=\"sk-estimator-id-1\" class=\"sk-toggleable__label sk-toggleable__label-arrow\">Ridge</label><div class=\"sk-toggleable__content\"><pre>Ridge()</pre></div></div></div></div></div>"
            ]
          },
          "metadata": {},
          "execution_count": 10
        }
      ]
    },
    {
      "cell_type": "code",
      "source": [
        "# 모델 활용, 예측\n",
        "train_pred_y = model.predict(train_poly_x) # y_hat : 예측한 값\n",
        "test_pred_y= model.predict(test_poly_x)"
      ],
      "metadata": {
        "id": "cTsqXs42e119"
      },
      "execution_count": null,
      "outputs": []
    },
    {
      "cell_type": "code",
      "source": [
        "# 학습 데이터와 검증 데이터를 대상으로 예측한 결과\n",
        "# 평균제곱오차 계산\n",
        "print(mean_squared_error(train_pred_y, train_y))\n",
        "print(mean_squared_error(test_pred_y, test_y))"
      ],
      "metadata": {
        "colab": {
          "base_uri": "https://localhost:8080/"
        },
        "id": "ZWalFK5dftf9",
        "outputId": "3f6e1e96-9bf2-430a-f8d8-3ea5d5e9fc19"
      },
      "execution_count": null,
      "outputs": [
        {
          "output_type": "stream",
          "name": "stdout",
          "text": [
            "0.17910912913338656\n",
            "0.4010395645884081\n"
          ]
        }
      ]
    },
    {
      "cell_type": "markdown",
      "source": [
        "로직스틱 회귀"
      ],
      "metadata": {
        "id": "ky3DZTSzgX12"
      }
    },
    {
      "cell_type": "code",
      "source": [
        "np.r_[np.random.normal(3, 1, size=50),\n",
        "          np.random.normal(-1, 1, size=50)]"
      ],
      "metadata": {
        "colab": {
          "base_uri": "https://localhost:8080/"
        },
        "id": "pe6L7olzhgY0",
        "outputId": "241c770f-1d66-42ec-db8b-e4022226b6da"
      },
      "execution_count": null,
      "outputs": [
        {
          "output_type": "execute_result",
          "data": {
            "text/plain": [
              "array([ 2.97645582,  2.14227184,  2.10810912,  3.32414066,  4.07830291,\n",
              "        4.10417665,  3.47834759,  2.4351544 ,  3.36471217,  2.79045419,\n",
              "        3.65695651,  3.36702633,  5.49869498,  3.07999908,  4.33347878,\n",
              "        4.3458546 ,  4.05376388,  3.07116413,  2.5234621 ,  3.12533153,\n",
              "        1.68174342,  3.95797042,  3.30266261,  3.46123983,  2.0992266 ,\n",
              "        2.15041844,  3.69278268,  2.82238824,  2.50276642,  2.05705483,\n",
              "        1.85408967,  1.53889372,  3.45320508,  3.32289634,  3.19360236,\n",
              "        2.3696635 ,  4.36156082,  3.90556628,  1.79633753,  2.20734046,\n",
              "        1.96849849,  2.04563168,  3.0652486 ,  1.79804652,  4.13576185,\n",
              "        2.81451786,  3.07101547,  2.43633413,  2.97327404,  5.11623127,\n",
              "       -0.77808589, -0.87948797, -1.92500624, -0.1854131 , -0.96454466,\n",
              "       -0.37286173, -1.21448572, -0.38143799,  1.30486966, -0.27838875,\n",
              "        0.04028164, -1.53883594,  0.38705516, -1.43158737, -1.46707398,\n",
              "       -0.66182424, -0.31965954, -1.98437757, -2.58604511, -3.23264389,\n",
              "       -0.8220582 , -3.01000035, -1.58155046, -0.85276549, -0.65305975,\n",
              "       -0.85203387, -2.40381954, -1.92450431, -0.64032929, -1.07446274,\n",
              "       -1.86565084,  0.20291346,  0.83317166,  0.49490495, -1.79950709,\n",
              "       -1.79499383, -1.10080575,  0.49410924, -2.04705564, -2.83660102,\n",
              "       -1.02992984, -0.76639523, -1.81443502, -1.51723249,  0.2542914 ,\n",
              "       -2.44868717, -1.22703978, -1.20180554, -0.39242482,  0.06974911])"
            ]
          },
          "metadata": {},
          "execution_count": 14
        }
      ]
    },
    {
      "cell_type": "code",
      "source": [
        "np.r_[np.random.normal(3, 1, size=50),\n",
        "          np.random.normal(-1, 1, size=50)].reshape(100, -1)"
      ],
      "metadata": {
        "colab": {
          "base_uri": "https://localhost:8080/"
        },
        "id": "nheJpxPEiGwU",
        "outputId": "31beb475-84a0-42cd-b5e3-1e76b7b2575c"
      },
      "execution_count": null,
      "outputs": [
        {
          "output_type": "execute_result",
          "data": {
            "text/plain": [
              "array([[ 3.25887363],\n",
              "       [ 4.44520914],\n",
              "       [ 3.0300852 ],\n",
              "       [ 3.56391719],\n",
              "       [ 2.70054305],\n",
              "       [ 3.43732497],\n",
              "       [ 2.80058137],\n",
              "       [ 4.08912161],\n",
              "       [ 3.50234906],\n",
              "       [ 3.17592108],\n",
              "       [ 3.25168191],\n",
              "       [ 2.91115257],\n",
              "       [ 0.70426204],\n",
              "       [ 3.18470581],\n",
              "       [ 4.56866974],\n",
              "       [ 1.29768033],\n",
              "       [ 1.92484632],\n",
              "       [ 2.47901426],\n",
              "       [ 2.03193816],\n",
              "       [ 3.60479146],\n",
              "       [ 4.49034687],\n",
              "       [ 4.01256005],\n",
              "       [ 2.11949735],\n",
              "       [ 3.99846855],\n",
              "       [ 2.87037833],\n",
              "       [ 3.06272163],\n",
              "       [ 4.38394859],\n",
              "       [ 1.99211981],\n",
              "       [ 2.05859477],\n",
              "       [ 3.52470247],\n",
              "       [ 2.63538045],\n",
              "       [ 2.99087408],\n",
              "       [ 1.79131809],\n",
              "       [ 4.08639656],\n",
              "       [ 3.32410713],\n",
              "       [ 1.87771367],\n",
              "       [ 1.74478235],\n",
              "       [ 2.5685654 ],\n",
              "       [ 1.91098703],\n",
              "       [ 1.97008082],\n",
              "       [ 3.18773853],\n",
              "       [ 3.50110004],\n",
              "       [ 2.47013063],\n",
              "       [ 3.73307033],\n",
              "       [ 2.26590379],\n",
              "       [ 0.98758563],\n",
              "       [ 4.42281849],\n",
              "       [ 3.20559668],\n",
              "       [ 1.53207285],\n",
              "       [ 3.28445798],\n",
              "       [-2.28280099],\n",
              "       [ 0.33367024],\n",
              "       [-1.19348333],\n",
              "       [-2.39341668],\n",
              "       [-0.69620884],\n",
              "       [-1.66469235],\n",
              "       [-0.64166772],\n",
              "       [-0.41810363],\n",
              "       [-0.11427167],\n",
              "       [ 0.31179122],\n",
              "       [-1.20638036],\n",
              "       [-0.65077   ],\n",
              "       [-0.24790682],\n",
              "       [-3.64011001],\n",
              "       [-1.31757532],\n",
              "       [-1.04923066],\n",
              "       [-1.58878204],\n",
              "       [-2.44403014],\n",
              "       [-1.61233958],\n",
              "       [-0.1113992 ],\n",
              "       [-0.92819777],\n",
              "       [-1.81784299],\n",
              "       [-1.34284072],\n",
              "       [-0.52454465],\n",
              "       [-0.50409831],\n",
              "       [-0.1605806 ],\n",
              "       [-0.37169653],\n",
              "       [-1.53693334],\n",
              "       [-1.62659895],\n",
              "       [-0.32921136],\n",
              "       [-2.27352465],\n",
              "       [-2.1665187 ],\n",
              "       [-0.7704288 ],\n",
              "       [-2.91502895],\n",
              "       [-0.53274407],\n",
              "       [-1.95218491],\n",
              "       [ 0.02033062],\n",
              "       [ 0.08340979],\n",
              "       [-1.02190115],\n",
              "       [-0.45357172],\n",
              "       [-0.6311902 ],\n",
              "       [-1.14041627],\n",
              "       [-1.14494253],\n",
              "       [-3.03603118],\n",
              "       [-0.50760726],\n",
              "       [-1.16608291],\n",
              "       [ 0.15764968],\n",
              "       [-1.83369601],\n",
              "       [-0.19806075],\n",
              "       [ 0.12987965]])"
            ]
          },
          "metadata": {},
          "execution_count": 16
        }
      ]
    },
    {
      "cell_type": "code",
      "source": [
        "np.random.normal(3, 1, size=50)"
      ],
      "metadata": {
        "colab": {
          "base_uri": "https://localhost:8080/"
        },
        "id": "0z1p72sIhwAJ",
        "outputId": "e2ec80df-775c-4cd4-cd7f-b5f84061234b"
      },
      "execution_count": null,
      "outputs": [
        {
          "output_type": "execute_result",
          "data": {
            "text/plain": [
              "array([3.62360007, 3.43081578, 2.41111179, 4.14872117, 1.29179503,\n",
              "       4.35071941, 4.14815339, 3.29350819, 2.32748127, 1.86806751,\n",
              "       3.41639966, 3.6023769 , 2.55749084, 2.0640469 , 3.15056448,\n",
              "       3.98110103, 3.97005767, 4.06045718, 1.17794661, 3.62213381,\n",
              "       1.70497356, 1.5065946 , 1.41289146, 2.88921213, 3.43351556,\n",
              "       3.12898568, 2.495744  , 3.56057397, 3.71908865, 3.88789295,\n",
              "       3.83112507, 3.95105017, 1.84279247, 3.96486314, 2.68551355,\n",
              "       3.76605778, 3.70205603, 1.07841527, 4.61402462, 0.71579787,\n",
              "       2.50875913, 2.45741961, 2.59133797, 2.99141372, 5.32232445,\n",
              "       2.31919823, 3.36148486, 6.29458874, 2.42411813, 2.86988195])"
            ]
          },
          "metadata": {},
          "execution_count": 15
        }
      ]
    },
    {
      "cell_type": "code",
      "source": [
        "np.ones(50)"
      ],
      "metadata": {
        "colab": {
          "base_uri": "https://localhost:8080/"
        },
        "id": "T9OX8fC3jWTr",
        "outputId": "e6fcf22e-7d11-480c-c87d-bedee0956723"
      },
      "execution_count": null,
      "outputs": [
        {
          "output_type": "execute_result",
          "data": {
            "text/plain": [
              "array([1., 1., 1., 1., 1., 1., 1., 1., 1., 1., 1., 1., 1., 1., 1., 1., 1.,\n",
              "       1., 1., 1., 1., 1., 1., 1., 1., 1., 1., 1., 1., 1., 1., 1., 1., 1.,\n",
              "       1., 1., 1., 1., 1., 1., 1., 1., 1., 1., 1., 1., 1., 1., 1., 1.])"
            ]
          },
          "metadata": {},
          "execution_count": 17
        }
      ]
    },
    {
      "cell_type": "code",
      "source": [
        "np.zeros(50)"
      ],
      "metadata": {
        "colab": {
          "base_uri": "https://localhost:8080/"
        },
        "id": "azgSQXpWjZiV",
        "outputId": "129c74be-f76e-4a44-b614-8bf60c0c999a"
      },
      "execution_count": null,
      "outputs": [
        {
          "output_type": "execute_result",
          "data": {
            "text/plain": [
              "array([0., 0., 0., 0., 0., 0., 0., 0., 0., 0., 0., 0., 0., 0., 0., 0., 0.,\n",
              "       0., 0., 0., 0., 0., 0., 0., 0., 0., 0., 0., 0., 0., 0., 0., 0., 0.,\n",
              "       0., 0., 0., 0., 0., 0., 0., 0., 0., 0., 0., 0., 0., 0., 0., 0.])"
            ]
          },
          "metadata": {},
          "execution_count": 18
        }
      ]
    },
    {
      "cell_type": "code",
      "source": [
        "np.r_[np.ones(50), np.zeros(50)]"
      ],
      "metadata": {
        "colab": {
          "base_uri": "https://localhost:8080/"
        },
        "id": "-efUq-cljmUK",
        "outputId": "9b75facb-0ebd-44df-bd74-ad02eb20b052"
      },
      "execution_count": null,
      "outputs": [
        {
          "output_type": "execute_result",
          "data": {
            "text/plain": [
              "array([1., 1., 1., 1., 1., 1., 1., 1., 1., 1., 1., 1., 1., 1., 1., 1., 1.,\n",
              "       1., 1., 1., 1., 1., 1., 1., 1., 1., 1., 1., 1., 1., 1., 1., 1., 1.,\n",
              "       1., 1., 1., 1., 1., 1., 1., 1., 1., 1., 1., 1., 1., 1., 1., 1., 0.,\n",
              "       0., 0., 0., 0., 0., 0., 0., 0., 0., 0., 0., 0., 0., 0., 0., 0., 0.,\n",
              "       0., 0., 0., 0., 0., 0., 0., 0., 0., 0., 0., 0., 0., 0., 0., 0., 0.,\n",
              "       0., 0., 0., 0., 0., 0., 0., 0., 0., 0., 0., 0., 0., 0., 0.])"
            ]
          },
          "metadata": {},
          "execution_count": 19
        }
      ]
    },
    {
      "cell_type": "code",
      "source": [
        "import numpy as np\n",
        "from sklearn.linear_model import LogisticRegression\n",
        "\n",
        "# 특징 데이터 생성\n",
        "x_train = np.r_[np.random.normal(3, 1, size=50),\n",
        "          np.random.normal(-1, 1, size=50)].reshape((100,-1))\n",
        "\n",
        "# np.random.normal(평균, 표준편차, 난수로 만든 데이터 개수)\n",
        "# >> 정규분포(평균 0, 표준편차 1)\n",
        "# np.r_ : 두 배열을 수평 결합\n",
        "\n",
        "# 종속(y값) 변수 데이터 생성\n",
        "y_train = np.r_[np.ones(50), np.zeros(50)]\n",
        "\n",
        "# 로직스틱 회귀 모델 생성 및 학습과 예측\n",
        "model = LogisticRegression(solver='lbfgs')\n",
        "\n",
        "# fit() 반드시 train data 로\n",
        "model.fit(x_train, y_train)\n",
        "\n",
        "# 예측\n",
        "model.predict_proba([[0],[1],[2]])[:, 1]"
      ],
      "metadata": {
        "colab": {
          "base_uri": "https://localhost:8080/"
        },
        "id": "UfiNLkFbgNmz",
        "outputId": "cc9fbfbe-00c2-408e-c4e6-c3ef20d1ca6d"
      },
      "execution_count": null,
      "outputs": [
        {
          "output_type": "execute_result",
          "data": {
            "text/plain": [
              "array([0.08843113, 0.49507542, 0.90834104])"
            ]
          },
          "metadata": {},
          "execution_count": 22
        }
      ]
    },
    {
      "cell_type": "code",
      "source": [],
      "metadata": {
        "id": "0ktkGMe7kTpH"
      },
      "execution_count": null,
      "outputs": []
    }
  ]
}